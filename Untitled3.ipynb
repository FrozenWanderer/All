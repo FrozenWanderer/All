{
 "cells": [
  {
   "cell_type": "code",
   "execution_count": null,
   "id": "ad71e390-a266-4c9e-86f5-a4e87913a1d8",
   "metadata": {},
   "outputs": [],
   "source": [
    "#Chemistry\n",
    "##Elements"
   ]
  },
  {
   "cell_type": "code",
   "execution_count": null,
   "id": "4416de2d-ec5b-4be8-9f12-cce3e2c2c4b2",
   "metadata": {},
   "outputs": [],
   "source": [
    "import pyopenms\n",
    "help(pyopenms.Constants)\n",
    "print (\"Avogadro's number is\", pyopenms.Constants.AVOGADRO)"
   ]
  },
  {
   "cell_type": "code",
   "execution_count": null,
   "id": "28609fb0-a670-40de-b705-a3cd8a8034a2",
   "metadata": {},
   "outputs": [],
   "source": [
    "from pyopenms import *\n",
    "edb = ElementDB()\n",
    "edb.hasElement(\"O\")\n",
    "edb.hasElement(\"S\")\n",
    "oxygen = edb.getElement(\"O\")\n",
    "print(oxygen.getName())\n",
    "print(oxygen.getSymbol())\n",
    "print(oxygen.getMonoWeight())\n",
    "print(oxygen.getAverageWeight())\n",
    "sulfur = edb.getElement(\"S\")\n",
    "print(sulfur.getName())\n",
    "print(sulfur.getSymbol())\n",
    "print(sulfur.getMonoWeight())\n",
    "print(sulfur.getAverageWeight())\n",
    "isotopes = sulfur.getIsotopeDistribution()\n",
    "print (\"One mole of oxygen weighs\", 2*oxygen.getAverageWeight(), \"grams\")\n",
    "print (\"One mole of 16O2 weighs\", 2*oxygen.getMonoWeight(), \"grams\")"
   ]
  },
  {
   "cell_type": "code",
   "execution_count": null,
   "id": "67dc9d75-a2c4-47d8-9176-f07766c9a43b",
   "metadata": {},
   "outputs": [],
   "source": [
    "#Isotopies"
   ]
  },
  {
   "cell_type": "code",
   "execution_count": null,
   "id": "0eef3db4-5823-48ea-9c5e-5e9620cea65a",
   "metadata": {},
   "outputs": [],
   "source": [
    "edb = ElementDB()\n",
    "oxygen_isoDist = {\"mass\": [], \"abundance\": []}\n",
    "sulfur_isoDist = {\"mass\": [], \"abundance\": []}\n",
    "\n",
    "oxygen = edb.getElement(\"O\")\n",
    "isotopes = oxygen.getIsotopeDistribution()\n",
    "for iso in isotopes.getContainer():\n",
    "    print (\"Oxygen isotope\", iso.getMZ(), \"has abundance\", iso.getIntensity()*100, \"%\")\n",
    "    oxygen_isoDist[\"mass\"].append(iso.getMZ())\n",
    "    oxygen_isoDist[\"abundance\"].append((iso.getIntensity() * 100))\n",
    "\n",
    "sulfur = edb.getElement(\"S\")\n",
    "isotopes = sulfur.getIsotopeDistribution()\n",
    "for iso in isotopes.getContainer():\n",
    "    print (\"Sulfur isotope\", iso.getMZ(), \"has abundance\", iso.getIntensity()*100, \"%\")\n",
    "    sulfur_isoDist[\"mass\"].append(iso.getMZ())\n",
    "    sulfur_isoDist[\"abundance\"].append((iso.getIntensity() * 100))"
   ]
  },
  {
   "cell_type": "code",
   "execution_count": null,
   "id": "cfbd7817-c521-48f4-9afa-d27c5edca9d0",
   "metadata": {},
   "outputs": [],
   "source": [
    "import math\n",
    "from matplotlib import pyplot as plt\n",
    "\n",
    "def adjustText(x1, y1, x2, y2):\n",
    "    if y1 > y2:\n",
    "        plt.annotate('%0.3f' % (y2), xy=(x2, y2), xytext=(x2+0.5,y2+9),\n",
    "                     textcoords='data',\n",
    "                     arrowprops=dict(arrowstyle=\"->\", color='r', lw=0.5),\n",
    "                     horizontalalignment='right', verticalalignment='top')\n",
    "    else:\n",
    "        plt.annotate('%0.3f' % (y1), xy=(x1, y1), xytext=(x1+0.5,y1+9),\n",
    "                     textcoords='data',\n",
    "                     arrowprops=dict(arrowstyle=\"->\", color='r', lw=0.5),\n",
    "                     horizontalalignment='right', verticalalignment='top')\n",
    "\n",
    "def plotDistribution(distribution):\n",
    "    n = len(distribution[\"mass\"])\n",
    "    for i in range(0, n):\n",
    "        plt.vlines(x=distribution[\"mass\"][i], ymin=0, ymax=distribution[\"abundance\"][i])\n",
    "        if int(distribution[\"mass\"][i - 1]) == int(distribution[\"mass\"][i]) \\\n",
    "                and i != 0:\n",
    "            adjustText(distribution[\"mass\"][i - 1], distribution[\"abundance\"][i - 1],\n",
    "                       distribution[\"mass\"][i], distribution[\"abundance\"][i])\n",
    "        else:\n",
    "            plt.text(x=distribution[\"mass\"][i],\n",
    "                     y=(distribution[\"abundance\"][i] + 2),\n",
    "                     s='%0.3f' % (distribution[\"abundance\"][i]), va='center',\n",
    "                     ha='center')\n",
    "    plt.ylim([0, 110])\n",
    "    plt.xticks(range(math.ceil(distribution[\"mass\"][0]) - 2,\n",
    "                     math.ceil(distribution[\"mass\"][-1]) + 2))\n",
    "\n",
    "plt.figure(figsize=(10,7))\n",
    "\n",
    "plt.subplot(1,2,1)\n",
    "plt.title(\"Isotopic distribution of oxygen\")\n",
    "plotDistribution(oxygen_isoDist)\n",
    "plt.xlabel(\"Atomic mass (u)\")\n",
    "plt.ylabel(\"Relative abundance (%)\")\n",
    "\n",
    "plt.subplot(1,2,2)\n",
    "plt.title(\"Isotopic distribution of sulfur\")\n",
    "plotDistribution(sulfur_isoDist)\n",
    "plt.xlabel(\"Atomic mass (u)\")\n",
    "plt.ylabel(\"Relative abundance (%)\")\n",
    "\n",
    "plt.show()"
   ]
  },
  {
   "cell_type": "code",
   "execution_count": null,
   "id": "863994f4-3cdd-4c1d-845d-8370a9a6bd3e",
   "metadata": {},
   "outputs": [],
   "source": [
    "#Amino Acids"
   ]
  },
  {
   "cell_type": "code",
   "execution_count": null,
   "id": "fce8591a-842c-4872-ae52-b33f9cfce3dc",
   "metadata": {},
   "outputs": [],
   "source": [
    "lys = ResidueDB().getResidue(\"Lysine\")\n",
    "print(lys.getName())\n",
    "print(lys.getThreeLetterCode())\n",
    "print(lys.getOneLetterCode())\n",
    "print(lys.getAverageWeight())\n",
    "print(lys.getMonoWeight())\n",
    "print(lys.getPka())\n",
    "print(lys.getFormula().toString())"
   ]
  },
  {
   "cell_type": "code",
   "execution_count": null,
   "id": "fbd03082-93e1-4505-93ee-1b10fcb9a151",
   "metadata": {},
   "outputs": [],
   "source": [
    "#Amino Acid Modifications"
   ]
  },
  {
   "cell_type": "code",
   "execution_count": null,
   "id": "ac006782-fe34-4f9e-be44-fdf2cd7f4900",
   "metadata": {},
   "outputs": [],
   "source": [
    "ox = ModificationsDB().getModification(\"Oxidation\")\n",
    "print(ox.getUniModAccession())\n",
    "print(ox.getUniModRecordId())\n",
    "print(ox.getDiffMonoMass())\n",
    "print(ox.getId())\n",
    "print(ox.getFullId())\n",
    "print(ox.getFullName())\n",
    "print(ox.getDiffFormula())"
   ]
  },
  {
   "cell_type": "code",
   "execution_count": null,
   "id": "a9dd1a6e-0417-45e4-8cdb-438ff67e1085",
   "metadata": {},
   "outputs": [],
   "source": [
    "isotopes = ox.getDiffFormula().getIsotopeDistribution(CoarseIsotopePatternGenerator(5))\n",
    "for iso in isotopes.getContainer():\n",
    "    print (iso.getMZ(), \":\", iso.getIntensity())"
   ]
  },
  {
   "cell_type": "code",
   "execution_count": null,
   "id": "99de6e85-a2ad-4e30-910e-0d30892a349b",
   "metadata": {},
   "outputs": [],
   "source": [
    "#Ribonucleotides"
   ]
  },
  {
   "cell_type": "code",
   "execution_count": null,
   "id": "f11609c7-c0de-42d2-a75e-4cadc2090ece",
   "metadata": {},
   "outputs": [],
   "source": [
    "uridine = RibonucleotideDB().getRibonucleotide(b\"U\")\n",
    "print(uridine.getName())\n",
    "print(uridine.getCode())\n",
    "print(uridine.getAvgMass())\n",
    "print(uridine.getMonoMass())\n",
    "print(uridine.getFormula().toString())\n",
    "print(uridine.isModified())\n",
    "methyladenosine = RibonucleotideDB().getRibonucleotide(b\"m1A\")\n",
    "print(methyladenosine.getName())\n",
    "print(methyladenosine.isModified())"
   ]
  },
  {
   "cell_type": "code",
   "execution_count": null,
   "id": "389e1017-bf87-469a-95a1-f185763c1b35",
   "metadata": {},
   "outputs": [],
   "source": [
    "#Peptides and Proteins\n",
    "##Amino Acids Sequeneces"
   ]
  },
  {
   "cell_type": "code",
   "execution_count": null,
   "id": "287fb2c6-4d9a-4d2d-9b49-85837a27075a",
   "metadata": {},
   "outputs": [],
   "source": [
    "from pyopenms import *\n",
    "seq = AASequence.fromString(\"DFPIANGER\") \n",
    "prefix = seq.getPrefix(4) \n",
    "suffix = seq.getSuffix(5) \n",
    "concat = seq + seq \n",
    "print(\"Sequence:\", seq)\n",
    "print(\"Prefix:\", prefix)\n",
    "print(\"Suffix:\", suffix)\n",
    "print(\"Concatenated:\", concat)\n",
    "mfull = seq.getMonoWeight()\n",
    "mprecursor = seq.getMonoWeight(Residue.ResidueType.Full, 2) \n",
    "mz = seq.getMonoWeight(Residue.ResidueType.Full, 2) / 2.0\n",
    "mz = seq.getMZ(2) \n",
    "print()\n",
    "print(\"Monoisotopic mass of peptide [M] is\", mfull)\n",
    "print(\"Monoisotopic mass of peptide precursor [M+2H]2+ is\", mprecursor)\n",
    "print(\"Monoisotopic m/z of [M+2H]2+ is\", mz)"
   ]
  },
  {
   "cell_type": "code",
   "execution_count": null,
   "id": "9137b358-6f93-423b-9b7b-b1f0cb63e74f",
   "metadata": {},
   "outputs": [],
   "source": [
    "#Molecular formula"
   ]
  },
  {
   "cell_type": "code",
   "execution_count": null,
   "id": "287ed4c8-9e4c-4b32-8afb-362eb997d9b1",
   "metadata": {},
   "outputs": [],
   "source": [
    "seq = AASequence.fromString(\"DFPIANGER\")\n",
    "seq_formula = seq.getFormula()\n",
    "print(\"Peptide\", seq, \"has molecular formula\", seq_formula)"
   ]
  },
  {
   "cell_type": "code",
   "execution_count": null,
   "id": "ac2c76c2-837c-48a1-ace6-8b6a53c1628d",
   "metadata": {},
   "outputs": [],
   "source": [
    "#Modified Sequences"
   ]
  },
  {
   "cell_type": "code",
   "execution_count": null,
   "id": "33203f33-cbe3-4d5b-93d1-7f9aa23191ca",
   "metadata": {},
   "outputs": [],
   "source": [
    " seq = AASequence.fromString(\"PEPTIDESEKUEM(Oxidation)CER\")\n",
    "print(seq.toUnmodifiedString())\n",
    "print(seq.toString())\n",
    "print(seq.toUniModString())\n",
    "print(seq.toBracketString())\n",
    "print(seq.toBracketString(False))\n",
    "\n",
    "print(AASequence.fromString(\"DFPIAM(UniMod:35)GER\"))\n",
    "print(AASequence.fromString(\"DFPIAM[+16]GER\"))\n",
    "print(AASequence.fromString(\"DFPIAM[+15.99]GER\"))\n",
    "print(AASequence.fromString(\"DFPIAM[147]GER\"))\n",
    "print(AASequence.fromString(\"DFPIAM[147.035405]GER\"))"
   ]
  },
  {
   "cell_type": "code",
   "execution_count": null,
   "id": "978d85f3-b797-4ec7-89f9-0432a2761657",
   "metadata": {},
   "outputs": [],
   "source": [
    "#Proteins and FASTA files"
   ]
  },
  {
   "cell_type": "code",
   "execution_count": null,
   "id": "2b472e18-1a5c-4e9b-9f5b-b6d0d23b5d7f",
   "metadata": {},
   "outputs": [],
   "source": [
    "bsa = FASTAEntry()\n",
    "bsa.sequence = \"MKWVTFISLLLLFSSAYSRGVFRRDTHKSEIAHRFKDLGE\"\n",
    "bsa.description = \"BSA Bovine Albumin (partial sequence)\"\n",
    "bsa.identifier = \"BSA\"\n",
    "alb = FASTAEntry()\n",
    "alb.sequence = \"MKWVTFISLLFLFSSAYSRGVFRRDAHKSEVAHRFKDLGE\"\n",
    "alb.description = \"ALB Human Albumin (partial sequence)\"\n",
    "alb.identifier = \"ALB\"\n",
    "entries = [bsa, alb]\n",
    "f = FASTAFile()\n",
    "f.store(\"example.fasta\", entries)"
   ]
  },
  {
   "cell_type": "code",
   "execution_count": null,
   "id": "fbf57c91-2a79-4396-9989-07a5725fa7be",
   "metadata": {},
   "outputs": [],
   "source": [
    "entries = []\n",
    "f = FASTAFile()\n",
    "f.load(\"example.fasta\", entries)\n",
    "print( len(entries) )\n",
    "for e in entries:\n",
    " print (e.identifier, e.sequence)"
   ]
  },
  {
   "cell_type": "code",
   "execution_count": null,
   "id": "89fbd7d4-5d49-4123-8dd6-8062b5711779",
   "metadata": {},
   "outputs": [],
   "source": [
    "#Digestion\n",
    "##Proteolytic Digestion with Trypsin"
   ]
  },
  {
   "cell_type": "code",
   "execution_count": null,
   "id": "f8f76d9a",
   "metadata": {},
   "outputs": [],
   "source": [
    "from pyopenms import *\n",
    "from urllib.request import urlretrieve\n",
    "gh = \"https://raw.githubusercontent.com/OpenMS/pyopenms-extra/master\"\n",
    "urlretrieve (gh + \"/src/data/P02769.fasta\", \"bsa.fasta\")\n",
    "dig = ProteaseDigestion()\n",
    "dig.getEnzymeName()\n",
    "bsa = \"\".join([l.strip() for l in open(\"bsa.fasta\").readlines()[1:]])\n",
    "bsa = AASequence.fromString(bsa)\n",
    "# create all digestion products\n",
    "result = []\n",
    "dig.digest(bsa, result)\n",
    "print(result[4].toString())\n",
    "len(result)"
   ]
  },
  {
   "cell_type": "code",
   "execution_count": null,
   "id": "f78aee43",
   "metadata": {},
   "outputs": [],
   "source": [
    "dig.digest(bsa, result, 7, 40)\n",
    "for s in result:\n",
    "    print(s.toString())"
   ]
  },
  {
   "cell_type": "code",
   "execution_count": null,
   "id": "c7100fbc",
   "metadata": {},
   "outputs": [],
   "source": [
    "dig.digest(bsa, result, 7, 40)\n",
    "# print the results\n",
    "for s in result:\n",
    "    print(s.toString())"
   ]
  },
  {
   "cell_type": "code",
   "execution_count": null,
   "id": "669b5d94",
   "metadata": {},
   "outputs": [],
   "source": [
    "#Proteolytic Digestion with Lys-C"
   ]
  },
  {
   "cell_type": "code",
   "execution_count": null,
   "id": "5ac130d4",
   "metadata": {},
   "outputs": [],
   "source": [
    "names = []\n",
    "ProteaseDB().getAllNames(names)\n",
    "len(names) # at least 25 by default\n",
    "e = ProteaseDB().getEnzyme('Lys-C')\n",
    "e.getRegExDescription()\n",
    "e.getRegEx()"
   ]
  },
  {
   "cell_type": "code",
   "execution_count": null,
   "id": "3bf1cf1b",
   "metadata": {},
   "outputs": [],
   "source": [
    "from urllib.request import urlretrieve\n",
    "gh = \"https://raw.githubusercontent.com/OpenMS/pyopenms-extra/master\"\n",
    "urlretrieve (gh + \"/src/data/P02769.fasta\", \"bsa.fasta\")\n",
    "\n",
    "dig = ProteaseDigestion()\n",
    "dig.setEnzyme('Lys-C')\n",
    "bsa = \"\".join([l.strip() for l in open(\"bsa.fasta\").readlines()[1:]])\n",
    "bsa = AASequence.fromString(bsa)\n",
    "result = []\n",
    "dig.digest(bsa, result)\n",
    "print(result[4].toString())\n",
    "len(result)"
   ]
  },
  {
   "cell_type": "code",
   "execution_count": null,
   "id": "0ad42eb9",
   "metadata": {},
   "outputs": [],
   "source": [
    "#Oligonucleotide Digestion"
   ]
  },
  {
   "cell_type": "code",
   "execution_count": null,
   "id": "9d793943",
   "metadata": {},
   "outputs": [],
   "source": [
    "db = RNaseDB()\n",
    "names = []\n",
    "db.getAllNames(names)\n",
    "names\n",
    "# Will print out all available enzymes:\n",
    "# ['RNase_U2', 'RNase_T1', 'RNase_H', 'unspecific cleavage', 'no cleavage', 'RNase_MC1', 'RNase_A', 'cusativin']\n",
    "e = db.getEnzyme(\"RNase_T1\")\n",
    "e.getRegEx()\n",
    "e.getThreePrimeGain()"
   ]
  },
  {
   "cell_type": "code",
   "execution_count": null,
   "id": "7fae0d5e",
   "metadata": {
    "scrolled": true
   },
   "outputs": [],
   "source": [
    "oligo = NASequence.fromString(\"pAUGUCGCAG\");\n",
    "dig = RNaseDigestion()\n",
    "dig.setEnzyme(\"RNase_T1\")\n",
    "result = []\n",
    "dig.digest(oligo, result)\n",
    "for fragment in result:\n",
    "  print (fragment)\n",
    "print(\"Looking closer at\", result[0])\n",
    "print(\" Five Prime modification:\", result[0].getFivePrimeMod().getCode())\n",
    "print(\" Three Prime modification:\", result[0].getThreePrimeMod().getCode())\n",
    "for ribo in result[0]:\n",
    "  print (ribo.getCode(), ribo.getMonoMass(), ribo.isModified())\n"
   ]
  },
  {
   "cell_type": "code",
   "execution_count": null,
   "id": "e0fd2182",
   "metadata": {},
   "outputs": [],
   "source": []
  },
  {
   "cell_type": "code",
   "execution_count": null,
   "id": "f8584b1c",
   "metadata": {},
   "outputs": [],
   "source": []
  }
 ],
 "metadata": {
  "kernelspec": {
   "display_name": "Python 3 (ipykernel)",
   "language": "python",
   "name": "python3"
  },
  "language_info": {
   "codemirror_mode": {
    "name": "ipython",
    "version": 3
   },
   "file_extension": ".py",
   "mimetype": "text/x-python",
   "name": "python",
   "nbconvert_exporter": "python",
   "pygments_lexer": "ipython3",
   "version": "3.9.7"
  }
 },
 "nbformat": 4,
 "nbformat_minor": 5
}
