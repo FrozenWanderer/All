{
  "cells": [
    {
      "cell_type": "markdown",
      "metadata": {
        "id": "5MrBC530gmg5"
      },
      "source": [
        "Let's start with your project:\n",
        "\n",
        "### **Problem**\n",
        "**Our goal is to create a predictive model that can answer the following question:**\n",
        "\n",
        "**What kind of people had a better chance of surviving?**"
      ]
    },
    {
      "cell_type": "markdown",
      "metadata": {
        "id": "qhBfwzBgioTD"
      },
      "source": [
        "**Data about passengers:**\n",
        "*   Name\n",
        "*   Age\n",
        "*   Gender.\n"
      ]
    },
    {
      "cell_type": "markdown",
      "metadata": {
        "id": "DIEH8iZqi-sk"
      },
      "source": [
        "## Install and Import Libraries\n",
        "Let's install PySpark:"
      ]
    },
    {
      "cell_type": "markdown",
      "source": [
        "#### - The findspark library:  is a utility that helps Python find the Spark installation on your system. It's particularly useful when you're working in environments like Jupyter notebooks where the Spark environment might not be properly set up.\n",
        "\n",
        "#### - By calling findspark.init(), you're ensuring that PySpark can be imported and used in your Python environment. After running these lines, you should be able to import and use PySpark without issues."
      ],
      "metadata": {
        "id": "AYWzcEupVNBc"
      }
    },
    {
      "cell_type": "code",
      "source": [
        "import os\n",
        "os.environ[\"JAVA_HOME\"] = \"/usr/lib/jvm/java-8-openjdk-amd64\"\n",
        "os.environ[\"SPARK_HOME\"] = \"/content/spark-3.1.2-bin-hadoop2.7\""
      ],
      "metadata": {
        "id": "9cJYE59CTbQq"
      },
      "execution_count": 10,
      "outputs": []
    },
    {
      "cell_type": "code",
      "source": [
        "!apt-get update -qq\n",
        "!apt-get install openjdk-8-jdk-headless -qq > /dev/null\n",
        "!wget -q https://archive.apache.org/dist/spark/spark-3.1.2/spark-3.1.2-bin-hadoop2.7.tgz\n",
        "!tar xf spark-3.1.2-bin-hadoop2.7.tgz\n",
        "!pip install -q findspark"
      ],
      "metadata": {
        "id": "0GfoQKGXTecz"
      },
      "execution_count": 11,
      "outputs": []
    },
    {
      "cell_type": "code",
      "execution_count": 12,
      "metadata": {
        "id": "9I6GvOjxToXn"
      },
      "outputs": [],
      "source": [
        "import findspark\n",
        "findspark.init()"
      ]
    },
    {
      "cell_type": "code",
      "source": [
        "!pip install pyspark==3.2.1"
      ],
      "metadata": {
        "colab": {
          "base_uri": "https://localhost:8080/"
        },
        "outputId": "2c617579-25bb-4383-b375-a4f55896da51",
        "id": "PEuxoq5UToXo"
      },
      "execution_count": 13,
      "outputs": [
        {
          "output_type": "stream",
          "name": "stdout",
          "text": [
            "Requirement already satisfied: pyspark==3.2.1 in /usr/local/lib/python3.10/dist-packages (3.2.1)\n",
            "Requirement already satisfied: py4j==0.10.9.3 in /usr/local/lib/python3.10/dist-packages (from pyspark==3.2.1) (0.10.9.3)\n"
          ]
        }
      ]
    },
    {
      "cell_type": "markdown",
      "metadata": {
        "id": "SDp80mG9jmfU"
      },
      "source": [
        "## Build Spark Session"
      ]
    },
    {
      "cell_type": "code",
      "execution_count": 9,
      "metadata": {
        "id": "ttzML9fpjE5a"
      },
      "outputs": [],
      "source": [
        "from pyspark.sql import SparkSession\n",
        "spark = SparkSession.builder.getOrCreate()"
      ]
    },
    {
      "cell_type": "markdown",
      "metadata": {
        "id": "TiqECDzLj1Mg"
      },
      "source": [
        "## Data Loading\n"
      ]
    },
    {
      "cell_type": "markdown",
      "metadata": {
        "id": "vn-hxNggkTqV"
      },
      "source": [
        "You have two datasets:\n",
        "* Train  \n",
        "* Test."
      ]
    },
    {
      "cell_type": "markdown",
      "metadata": {
        "id": "x8-A8M7QmKDJ"
      },
      "source": [
        "Read two datasets:\n",
        "* Train\n",
        "* Test.\n",
        "\n"
      ]
    },
    {
      "cell_type": "code",
      "execution_count": null,
      "metadata": {
        "id": "Mx2qAccBk15y"
      },
      "outputs": [],
      "source": [
        "train_df = spark.read.csv('train_spark1.csv', header=True, inferSchema=True)\n",
        "test_df = spark.read.csv('test_spark1.csv', header=True, inferSchema=True)"
      ]
    },
    {
      "cell_type": "markdown",
      "metadata": {
        "id": "Lj2ANTnWmSCq"
      },
      "source": [
        "Let's work with train dataset:"
      ]
    },
    {
      "cell_type": "markdown",
      "metadata": {
        "id": "b5mWJR30lNs5"
      },
      "source": [
        "**Confirm if this is a dataframe or not:**"
      ]
    },
    {
      "cell_type": "code",
      "execution_count": null,
      "metadata": {
        "id": "tEYTePrzk9yl",
        "outputId": "1f9d2605-707a-45f1-c910-0281c8aaef42",
        "colab": {
          "base_uri": "https://localhost:8080/"
        }
      },
      "outputs": [
        {
          "output_type": "stream",
          "name": "stdout",
          "text": [
            "<class 'pyspark.sql.dataframe.DataFrame'>\n",
            "<class 'pyspark.sql.dataframe.DataFrame'>\n"
          ]
        }
      ],
      "source": [
        "print(type(train_df))\n",
        "print(type(test_df))"
      ]
    },
    {
      "cell_type": "markdown",
      "metadata": {
        "id": "lvLJElPrlT4i"
      },
      "source": [
        "**Show 5 rows.**"
      ]
    },
    {
      "cell_type": "code",
      "execution_count": null,
      "metadata": {
        "id": "jYwhqvV8lnO0",
        "outputId": "20cf17fc-1af7-4ffb-e922-65788d810a33",
        "colab": {
          "base_uri": "https://localhost:8080/"
        }
      },
      "outputs": [
        {
          "output_type": "stream",
          "name": "stdout",
          "text": [
            "Train DF\n",
            "+-----------+--------+------+--------------------+------+----+-----+-----+----------------+-------+-----+--------+\n",
            "|PassengerId|Survived|Pclass|                Name|   Sex| Age|SibSp|Parch|          Ticket|   Fare|Cabin|Embarked|\n",
            "+-----------+--------+------+--------------------+------+----+-----+-----+----------------+-------+-----+--------+\n",
            "|          1|       0|     3|Braund, Mr. Owen ...|  male|22.0|    1|    0|       A/5 21171|   7.25| null|       S|\n",
            "|          2|       1|     1|Cumings, Mrs. Joh...|female|38.0|    1|    0|        PC 17599|71.2833|  C85|       C|\n",
            "|          3|       1|     3|Heikkinen, Miss. ...|female|26.0|    0|    0|STON/O2. 3101282|  7.925| null|       S|\n",
            "|          4|       1|     1|Futrelle, Mrs. Ja...|female|35.0|    1|    0|          113803|   53.1| C123|       S|\n",
            "|          5|       0|     3|Allen, Mr. Willia...|  male|35.0|    0|    0|          373450|   8.05| null|       S|\n",
            "+-----------+--------+------+--------------------+------+----+-----+-----+----------------+-------+-----+--------+\n",
            "only showing top 5 rows\n",
            "\n",
            "\n",
            "Test DF\n",
            "+-----------+--------+------+--------------------+------+----+-----+-----+--------+-------+-----+--------+\n",
            "|PassengerId|Survived|Pclass|                Name|   Sex| Age|SibSp|Parch|  Ticket|   Fare|Cabin|Embarked|\n",
            "+-----------+--------+------+--------------------+------+----+-----+-----+--------+-------+-----+--------+\n",
            "|          1|       1|     1|Goldenberg, Mr. S...|  male|49.0|    1|    0|   17453|89.1042|  C92|       C|\n",
            "|          2|       0|     3| Peduzzi, Mr. Joseph|  male|null|    0|    0|A/5 2817|   8.05| null|       S|\n",
            "|          3|       1|     3|  Jalsevac, Mr. Ivan|  male|29.0|    0|    0|  349240| 7.8958| null|       C|\n",
            "|          4|       0|     1|Millet, Mr. Franc...|  male|65.0|    0|    0|   13509|  26.55|  E38|       S|\n",
            "|          5|       1|     1|Kenyon, Mrs. Fred...|female|null|    1|    0|   17464|51.8625|  D21|       S|\n",
            "+-----------+--------+------+--------------------+------+----+-----+-----+--------+-------+-----+--------+\n",
            "only showing top 5 rows\n",
            "\n"
          ]
        }
      ],
      "source": [
        "print('Train DF')\n",
        "train_df.show(5)\n",
        "print()\n",
        "print('Test DF')\n",
        "test_df.show(5)"
      ]
    },
    {
      "cell_type": "markdown",
      "metadata": {
        "id": "6QIYVxRXlnnw"
      },
      "source": [
        "**Display schema for the dataset:**"
      ]
    },
    {
      "cell_type": "code",
      "execution_count": null,
      "metadata": {
        "id": "pcvERiICl1Ep",
        "outputId": "f41d8953-53c0-4742-eb28-afd25fabeb89",
        "colab": {
          "base_uri": "https://localhost:8080/"
        }
      },
      "outputs": [
        {
          "output_type": "stream",
          "name": "stdout",
          "text": [
            "Train DF\n",
            "root\n",
            " |-- PassengerId: integer (nullable = true)\n",
            " |-- Survived: integer (nullable = true)\n",
            " |-- Pclass: integer (nullable = true)\n",
            " |-- Name: string (nullable = true)\n",
            " |-- Sex: string (nullable = true)\n",
            " |-- Age: double (nullable = true)\n",
            " |-- SibSp: integer (nullable = true)\n",
            " |-- Parch: integer (nullable = true)\n",
            " |-- Ticket: string (nullable = true)\n",
            " |-- Fare: double (nullable = true)\n",
            " |-- Cabin: string (nullable = true)\n",
            " |-- Embarked: string (nullable = true)\n",
            "\n",
            "Test DF\n",
            "root\n",
            " |-- PassengerId: integer (nullable = true)\n",
            " |-- Survived: integer (nullable = true)\n",
            " |-- Pclass: integer (nullable = true)\n",
            " |-- Name: string (nullable = true)\n",
            " |-- Sex: string (nullable = true)\n",
            " |-- Age: double (nullable = true)\n",
            " |-- SibSp: integer (nullable = true)\n",
            " |-- Parch: integer (nullable = true)\n",
            " |-- Ticket: string (nullable = true)\n",
            " |-- Fare: double (nullable = true)\n",
            " |-- Cabin: string (nullable = true)\n",
            " |-- Embarked: string (nullable = true)\n",
            "\n"
          ]
        }
      ],
      "source": [
        "print('Train DF')\n",
        "train_df.printSchema()\n",
        "print('Test DF')\n",
        "test_df.printSchema()"
      ]
    },
    {
      "cell_type": "markdown",
      "metadata": {
        "id": "xmE3Wd80l1S6"
      },
      "source": [
        "**Statistical summary:**"
      ]
    },
    {
      "cell_type": "code",
      "execution_count": null,
      "metadata": {
        "id": "cNY0SItol5Mo",
        "outputId": "0e1c55ec-c7fd-4165-a028-f6fa6beb2924",
        "colab": {
          "base_uri": "https://localhost:8080/"
        }
      },
      "outputs": [
        {
          "output_type": "stream",
          "name": "stdout",
          "text": [
            "+-------+-----------------+-------------------+------------------+--------------------+------+------------------+------------------+-------------------+------------------+-----------------+-----+--------+\n",
            "|summary|      PassengerId|           Survived|            Pclass|                Name|   Sex|               Age|             SibSp|              Parch|            Ticket|             Fare|Cabin|Embarked|\n",
            "+-------+-----------------+-------------------+------------------+--------------------+------+------------------+------------------+-------------------+------------------+-----------------+-----+--------+\n",
            "|  count|              891|                891|               891|                 891|   891|               714|               891|                891|               891|              891|  204|     889|\n",
            "|   mean|            446.0| 0.3838383838383838| 2.308641975308642|                null|  null| 29.69911764705882|0.5230078563411896|0.38159371492704824|260318.54916792738| 32.2042079685746| null|    null|\n",
            "| stddev|257.3538420152301|0.48659245426485753|0.8360712409770491|                null|  null|14.526497332334035|1.1027434322934315| 0.8060572211299488|471609.26868834975|49.69342859718089| null|    null|\n",
            "|    min|                1|                  0|                 1|\"Andersson, Mr. A...|female|              0.42|                 0|                  0|            110152|              0.0|  A10|       C|\n",
            "|    25%|              223|                  0|                 2|                null|  null|              20.0|                 0|                  0|           19996.0|           7.8958| null|    null|\n",
            "|    50%|              446|                  0|                 3|                null|  null|              28.0|                 0|                  0|          236171.0|          14.4542| null|    null|\n",
            "|    75%|              669|                  1|                 3|                null|  null|              38.0|                 1|                  0|          347743.0|             31.0| null|    null|\n",
            "|    max|              891|                  1|                 3|van Melkebeke, Mr...|  male|              80.0|                 8|                  6|         WE/P 5735|         512.3292|    T|       S|\n",
            "+-------+-----------------+-------------------+------------------+--------------------+------+------------------+------------------+-------------------+------------------+-----------------+-----+--------+\n",
            "\n"
          ]
        }
      ],
      "source": [
        "train_df.summary().show()"
      ]
    },
    {
      "cell_type": "markdown",
      "metadata": {
        "id": "HiFaIEQTl70_"
      },
      "source": [
        "## EDA - Exploratory Data Analysis"
      ]
    },
    {
      "cell_type": "markdown",
      "metadata": {
        "id": "PSNPOnP8mw2Q"
      },
      "source": [
        "**Display count for the train dataset:**"
      ]
    },
    {
      "cell_type": "code",
      "execution_count": null,
      "metadata": {
        "id": "zrtpG11Fl9HM",
        "outputId": "2d0d365a-c726-4d99-f318-da200c4a1a5f",
        "colab": {
          "base_uri": "https://localhost:8080/"
        }
      },
      "outputs": [
        {
          "output_type": "execute_result",
          "data": {
            "text/plain": [
              "891"
            ]
          },
          "metadata": {},
          "execution_count": 8
        }
      ],
      "source": [
        "train_df.count()"
      ]
    },
    {
      "cell_type": "markdown",
      "metadata": {
        "id": "t_6nnTfxm9_x"
      },
      "source": [
        "**Can you answer this question:**\n",
        "\n",
        "**How many people survived, and how many didn't survive?**\n",
        "\n",
        "**Please save data in a variable.**"
      ]
    },
    {
      "cell_type": "code",
      "execution_count": null,
      "metadata": {
        "id": "8KECTvrUTPy7"
      },
      "outputs": [],
      "source": [
        "from pyspark.sql.functions import col"
      ]
    },
    {
      "cell_type": "code",
      "execution_count": null,
      "metadata": {
        "id": "QDoqPwyomYxA"
      },
      "outputs": [],
      "source": [
        "trainDF_Survived = train_df.where(col('Survived') == 1)"
      ]
    },
    {
      "cell_type": "code",
      "execution_count": null,
      "metadata": {
        "id": "0XIfyYyFTPy7"
      },
      "outputs": [],
      "source": [
        "trainDF_UNSurvived = train_df.where(col('Survived') == 0)"
      ]
    },
    {
      "cell_type": "markdown",
      "metadata": {
        "id": "P8DUtZXPn46m"
      },
      "source": [
        "**Display your result:**"
      ]
    },
    {
      "cell_type": "code",
      "execution_count": null,
      "metadata": {
        "id": "0XHAK8ceoCMU",
        "outputId": "e3379eac-4551-4d5f-fdf4-81293b374f89",
        "colab": {
          "base_uri": "https://localhost:8080/"
        }
      },
      "outputs": [
        {
          "output_type": "execute_result",
          "data": {
            "text/plain": [
              "342"
            ]
          },
          "metadata": {},
          "execution_count": 12
        }
      ],
      "source": [
        "trainDF_Survived.count()"
      ]
    },
    {
      "cell_type": "code",
      "execution_count": null,
      "metadata": {
        "id": "qjLLr_oCTPy8",
        "outputId": "29546fa0-3e31-4541-cccf-128c0d44c0af",
        "colab": {
          "base_uri": "https://localhost:8080/"
        }
      },
      "outputs": [
        {
          "output_type": "execute_result",
          "data": {
            "text/plain": [
              "549"
            ]
          },
          "metadata": {},
          "execution_count": 13
        }
      ],
      "source": [
        "trainDF_UNSurvived.count()"
      ]
    },
    {
      "cell_type": "markdown",
      "metadata": {
        "id": "Ygsg7wQqor9a"
      },
      "source": [
        "**Can you display your answer in ratio form?(Hint: Use \"UDF\" Function. (Hint: Use \"UDF\" Function. This is a hint you can use any method.)**\n",
        "\n",
        "\n",
        "\n",
        "\n"
      ]
    },
    {
      "cell_type": "code",
      "execution_count": null,
      "metadata": {
        "id": "MFL9KbekTPy8"
      },
      "outputs": [],
      "source": [
        "from pyspark.sql.types import FloatType"
      ]
    },
    {
      "cell_type": "code",
      "execution_count": null,
      "metadata": {
        "id": "3uiaN29PoQnf",
        "outputId": "02ebc0dd-9c3c-49c4-e761-4e90d42ea6d2",
        "colab": {
          "base_uri": "https://localhost:8080/"
        }
      },
      "outputs": [
        {
          "output_type": "stream",
          "name": "stdout",
          "text": [
            "Survived ratio: 38.384 %\n"
          ]
        }
      ],
      "source": [
        "df_cond_count = train_df.where(col('Survived') == 1).count()\n",
        "df_all_count = train_df.count()\n",
        "\n",
        "print('Survived ratio:', round(df_cond_count/df_all_count*100, 3), '%')"
      ]
    },
    {
      "cell_type": "code",
      "execution_count": null,
      "metadata": {
        "id": "E4BgeUkaTPy9",
        "outputId": "12444c40-c3b7-43e8-ce09-99a1011e3e98",
        "colab": {
          "base_uri": "https://localhost:8080/"
        }
      },
      "outputs": [
        {
          "output_type": "stream",
          "name": "stdout",
          "text": [
            "Unsurvived ratio: 61.616 %\n"
          ]
        }
      ],
      "source": [
        "df_cond_count = train_df.where(col('Survived') == 0).count()\n",
        "df_all_count = train_df.count()\n",
        "\n",
        "print('Unsurvived ratio:', round(df_cond_count/df_all_count*100, 3), '%')"
      ]
    },
    {
      "cell_type": "markdown",
      "metadata": {
        "id": "Q7Aker_lp1h4"
      },
      "source": [
        "**Can you get the number of males and females?**\n"
      ]
    },
    {
      "cell_type": "code",
      "execution_count": null,
      "metadata": {
        "id": "XllkDlo3ongJ",
        "outputId": "d4ab9ed0-6f54-42cd-d328-47f152846c56",
        "colab": {
          "base_uri": "https://localhost:8080/"
        }
      },
      "outputs": [
        {
          "output_type": "stream",
          "name": "stdout",
          "text": [
            "Males count: 577\n"
          ]
        }
      ],
      "source": [
        "print('Males count:', train_df.where(col('Sex') == 'male').count())"
      ]
    },
    {
      "cell_type": "code",
      "execution_count": null,
      "metadata": {
        "id": "wjqsJ86MTPy-",
        "outputId": "4c3af7bd-7785-4c01-d531-db08a8bf6ca1",
        "colab": {
          "base_uri": "https://localhost:8080/"
        }
      },
      "outputs": [
        {
          "output_type": "stream",
          "name": "stdout",
          "text": [
            "Females count: 314\n"
          ]
        }
      ],
      "source": [
        "print('Females count:', train_df.where(col('Sex') == 'female').count())"
      ]
    },
    {
      "cell_type": "markdown",
      "metadata": {
        "id": "YHFaJ15zqtEV"
      },
      "source": [
        "**1. What is the average number of survivors of each gender?**\n",
        "\n",
        "**2. What is the number of survivors of each gender?**\n",
        "\n",
        "(Hint: Group by the \"sex\" column. This is a hint you can use any method.)"
      ]
    },
    {
      "cell_type": "code",
      "execution_count": null,
      "metadata": {
        "id": "dmSAhOEDTPy-"
      },
      "outputs": [],
      "source": [
        "from pyspark.sql.functions import count, avg"
      ]
    },
    {
      "cell_type": "code",
      "execution_count": null,
      "metadata": {
        "id": "NUikH7MUqdKq",
        "outputId": "d283b29c-83f0-4bd0-de03-0fc74e4e9adb",
        "colab": {
          "base_uri": "https://localhost:8080/"
        }
      },
      "outputs": [
        {
          "output_type": "stream",
          "name": "stdout",
          "text": [
            "+------+-----+\n",
            "|   Sex|count|\n",
            "+------+-----+\n",
            "|female|  233|\n",
            "|  male|  109|\n",
            "+------+-----+\n",
            "\n"
          ]
        }
      ],
      "source": [
        "train_df.select('Sex')\\\n",
        " .where(col('Survived') == 1)\\\n",
        " .groupBy('Sex')\\\n",
        " .count().show()"
      ]
    },
    {
      "cell_type": "code",
      "execution_count": null,
      "metadata": {
        "id": "9haJ8P4nTPy_"
      },
      "outputs": [],
      "source": [
        "import pyspark.sql.functions as F"
      ]
    },
    {
      "cell_type": "code",
      "execution_count": null,
      "metadata": {
        "id": "5hreoDXqTPy_",
        "outputId": "5fcbdc4f-3d52-4cdc-c646-03171ccc1e15",
        "colab": {
          "base_uri": "https://localhost:8080/"
        }
      },
      "outputs": [
        {
          "output_type": "stream",
          "name": "stdout",
          "text": [
            "+------+--------+-----+\n",
            "|   Sex|Survived|count|\n",
            "+------+--------+-----+\n",
            "|  male|       0|  468|\n",
            "|female|       1|  233|\n",
            "|female|       0|   81|\n",
            "|  male|       1|  109|\n",
            "+------+--------+-----+\n",
            "\n"
          ]
        }
      ],
      "source": [
        "train_df.groupBy(\"Sex\", \"Survived\").agg(count('*').alias('count')).show()"
      ]
    },
    {
      "cell_type": "code",
      "execution_count": null,
      "metadata": {
        "id": "HQEzS8VOTPy_"
      },
      "outputs": [],
      "source": [
        "from pyspark.sql.functions import expr"
      ]
    },
    {
      "cell_type": "code",
      "execution_count": null,
      "metadata": {
        "id": "ILIbaTfMTPy_",
        "outputId": "bbe1418f-5492-425a-b281-2efadb6181a3",
        "colab": {
          "base_uri": "https://localhost:8080/"
        }
      },
      "outputs": [
        {
          "output_type": "stream",
          "name": "stdout",
          "text": [
            "+------+--------+-----+-------------------+\n",
            "|   Sex|Survived|count|              Ratio|\n",
            "+------+--------+-----+-------------------+\n",
            "|  male|       0|  468| 0.5252525252525253|\n",
            "|female|       1|  233| 0.2615039281705948|\n",
            "|female|       0|   81|0.09090909090909091|\n",
            "|  male|       1|  109|  0.122334455667789|\n",
            "+------+--------+-----+-------------------+\n",
            "\n"
          ]
        }
      ],
      "source": [
        "df_temp = train_df.groupBy(\"Sex\", \"Survived\").count()\n",
        "\n",
        "df_temp.withColumn('Ratio', expr(\"count\")/train_df.count()).show()"
      ]
    },
    {
      "cell_type": "markdown",
      "metadata": {
        "id": "kCEdYNdArtRN"
      },
      "source": [
        "**Create temporary view PySpark:**"
      ]
    },
    {
      "cell_type": "code",
      "execution_count": null,
      "metadata": {
        "id": "YjlK6HDUqsI5"
      },
      "outputs": [],
      "source": [
        "train_df.createOrReplaceTempView(\"tbl_1\")"
      ]
    },
    {
      "cell_type": "markdown",
      "metadata": {
        "id": "JXNePifnshHr"
      },
      "source": [
        "**How many people survived, and how many didn't survive? By SQL:**"
      ]
    },
    {
      "cell_type": "code",
      "execution_count": null,
      "metadata": {
        "id": "0HxfPRTMslqk",
        "outputId": "b234c5e7-e353-4ec2-eb71-7b50057848bd",
        "colab": {
          "base_uri": "https://localhost:8080/"
        }
      },
      "outputs": [
        {
          "output_type": "stream",
          "name": "stdout",
          "text": [
            "+--------+-----+\n",
            "|Survived|count|\n",
            "+--------+-----+\n",
            "|       1|  342|\n",
            "|       0|  549|\n",
            "+--------+-----+\n",
            "\n"
          ]
        }
      ],
      "source": [
        "spark.sql(\"\"\"SELECT Survived, COUNT(*) AS count\n",
        "          FROM tbl_1\n",
        "          GROUP BY Survived\"\"\").show()"
      ]
    },
    {
      "cell_type": "markdown",
      "metadata": {
        "id": "sVCdY6EasFWV"
      },
      "source": [
        "**Can you display the number of survivors from each gender as a ratio?**\n",
        "\n",
        "(Hint: Group by \"sex\" column. This is a hint you can use any method.)\n",
        "\n",
        "**Can you do this via SQL?**"
      ]
    },
    {
      "cell_type": "code",
      "execution_count": null,
      "metadata": {
        "id": "7xQc3pUUr3HF",
        "outputId": "2b070afe-90ec-4e51-9ea7-ec12585db91f",
        "colab": {
          "base_uri": "https://localhost:8080/"
        }
      },
      "outputs": [
        {
          "output_type": "stream",
          "name": "stdout",
          "text": [
            "+------+-----+\n",
            "|   Sex|count|\n",
            "+------+-----+\n",
            "|female|  233|\n",
            "|  male|  109|\n",
            "+------+-----+\n",
            "\n"
          ]
        }
      ],
      "source": [
        "spark.sql(\"\"\"SELECT Sex, COUNT(*) AS count\n",
        "          FROM tbl_1\n",
        "          WHERE Survived == 1\n",
        "          GROUP BY Sex\"\"\").show()"
      ]
    },
    {
      "cell_type": "markdown",
      "metadata": {
        "id": "j6QXc5V8uu3Y"
      },
      "source": [
        "**Display a ratio for \"p-class\": SUM(Survived)/count for p-class**\n"
      ]
    },
    {
      "cell_type": "code",
      "execution_count": null,
      "metadata": {
        "id": "Mscs2mDFdFsD",
        "outputId": "52393bc4-bef3-404c-ae49-8e83199a9342",
        "colab": {
          "base_uri": "https://localhost:8080/"
        }
      },
      "outputs": [
        {
          "output_type": "stream",
          "name": "stdout",
          "text": [
            "+------+-------------------+\n",
            "|Pclass|              Ratio|\n",
            "+------+-------------------+\n",
            "|     1| 0.6296296296296297|\n",
            "|     3|0.24236252545824846|\n",
            "|     2|0.47282608695652173|\n",
            "+------+-------------------+\n",
            "\n"
          ]
        }
      ],
      "source": [
        "spark.sql(\"\"\"SELECT Pclass, SUM(Survived)/COUNT(Pclass) AS Ratio\n",
        "          FROM tbl_1\n",
        "          GROUP BY Pclass\"\"\").show()"
      ]
    },
    {
      "cell_type": "markdown",
      "metadata": {
        "id": "EX0klxwAvg6J"
      },
      "source": [
        "**Let's take a break and continue after this.**"
      ]
    },
    {
      "cell_type": "markdown",
      "metadata": {
        "id": "_ctM9t8atxJl"
      },
      "source": [
        "## Data Cleaning"
      ]
    },
    {
      "cell_type": "markdown",
      "metadata": {
        "id": "7CfanZTCt6Wk"
      },
      "source": [
        "**First and foremost, we must merge both the train and test datasets. (Hint: The union function can do this.)**\n",
        "\n"
      ]
    },
    {
      "cell_type": "code",
      "execution_count": null,
      "metadata": {
        "id": "8Nm8S1K0r4uY"
      },
      "outputs": [],
      "source": [
        "mergedDF = train_df.union(test_df)"
      ]
    },
    {
      "cell_type": "markdown",
      "metadata": {
        "id": "jI7AD8FLz3iO"
      },
      "source": [
        "**Display count:**"
      ]
    },
    {
      "cell_type": "code",
      "execution_count": null,
      "metadata": {
        "id": "s_WERAL8wvJa",
        "outputId": "45f3e53a-9bba-4809-fa9c-a5307035f1c3",
        "colab": {
          "base_uri": "https://localhost:8080/"
        }
      },
      "outputs": [
        {
          "output_type": "execute_result",
          "data": {
            "text/plain": [
              "1329"
            ]
          },
          "metadata": {},
          "execution_count": 30
        }
      ],
      "source": [
        "mergedDF.count()"
      ]
    },
    {
      "cell_type": "markdown",
      "metadata": {
        "id": "5R4Miuy0z_uP"
      },
      "source": [
        "**Can you define the number of null values in each column?**\n"
      ]
    },
    {
      "cell_type": "code",
      "execution_count": null,
      "metadata": {
        "id": "WnQQMiG7TPzE"
      },
      "outputs": [],
      "source": [
        "from pyspark.sql.functions import col,isnan,when,count"
      ]
    },
    {
      "cell_type": "code",
      "execution_count": null,
      "metadata": {
        "id": "0LMOalKBxhpD",
        "outputId": "5a8abacb-0b26-42d4-8245-ad0dc2701f55"
      },
      "outputs": [
        {
          "name": "stdout",
          "output_type": "stream",
          "text": [
            "+-----------+--------+------+----+---+---+-----+-----+------+----+-----+--------+\n",
            "|PassengerId|Survived|Pclass|Name|Sex|Age|SibSp|Parch|Ticket|Fare|Cabin|Embarked|\n",
            "+-----------+--------+------+----+---+---+-----+-----+------+----+-----+--------+\n",
            "|          0|       0|     0|   0|  0|265|    0|    0|     0|   0| 1021|       3|\n",
            "+-----------+--------+------+----+---+---+-----+-----+------+----+-----+--------+\n",
            "\n"
          ]
        }
      ],
      "source": [
        "mergedDF.select([count(when(isnan(c) | col(c).isNull(), c)).alias(c) for c in mergedDF.columns]).show()"
      ]
    },
    {
      "cell_type": "markdown",
      "metadata": {
        "id": "tBX8cJ000aqe"
      },
      "source": [
        "**Create Dataframe for null values**\n",
        "\n",
        "1. Column\n",
        "2. Number of missing values."
      ]
    },
    {
      "cell_type": "code",
      "execution_count": null,
      "metadata": {
        "id": "ITmyUelNxjJM"
      },
      "outputs": [],
      "source": [
        "nullDF = mergedDF.select([count(when(isnan(c) | col(c).isNull(), c)).alias(c) for c in mergedDF.columns])"
      ]
    },
    {
      "cell_type": "code",
      "execution_count": null,
      "metadata": {
        "id": "j7vlEWXxTPzG"
      },
      "outputs": [],
      "source": [
        "data = [(i, nullDF.select(F.collect_list(i)).first()[0][0]) for i in nullDF.columns]"
      ]
    },
    {
      "cell_type": "code",
      "execution_count": null,
      "metadata": {
        "id": "AovGUKXvTPzG",
        "outputId": "ec20df63-7cd1-4c9b-a1cc-02f86414f89a"
      },
      "outputs": [
        {
          "name": "stdout",
          "output_type": "stream",
          "text": [
            "+-----------+-----+\n",
            "|     Column|Value|\n",
            "+-----------+-----+\n",
            "|PassengerId|    0|\n",
            "|   Survived|    0|\n",
            "|     Pclass|    0|\n",
            "|       Name|    0|\n",
            "|        Sex|    0|\n",
            "|        Age|  265|\n",
            "|      SibSp|    0|\n",
            "|      Parch|    0|\n",
            "|     Ticket|    0|\n",
            "|       Fare|    0|\n",
            "|      Cabin| 1021|\n",
            "|   Embarked|    3|\n",
            "+-----------+-----+\n",
            "\n"
          ]
        }
      ],
      "source": [
        "spark.createDataFrame(data,['Column', 'Value']).show()"
      ]
    },
    {
      "cell_type": "markdown",
      "metadata": {
        "id": "cuKrOi5a0-Ma"
      },
      "source": [
        "## Preprocessing"
      ]
    },
    {
      "cell_type": "markdown",
      "metadata": {
        "id": "lVQlr9vDy7Y4"
      },
      "source": [
        "**Create Temporary view PySpark:**"
      ]
    },
    {
      "cell_type": "code",
      "execution_count": null,
      "metadata": {
        "id": "xs3yeXhGI8rv"
      },
      "outputs": [],
      "source": [
        "mergedDF.createOrReplaceTempView(\"tbl_2\")"
      ]
    },
    {
      "cell_type": "code",
      "execution_count": null,
      "metadata": {
        "id": "875gKN5qTPzG"
      },
      "outputs": [],
      "source": [
        "combined = mergedDF"
      ]
    },
    {
      "cell_type": "markdown",
      "metadata": {
        "id": "Txa8NZIO1JaP"
      },
      "source": [
        "**Can you show the \"name\" column from your temporary table?**"
      ]
    },
    {
      "cell_type": "code",
      "execution_count": null,
      "metadata": {
        "id": "m7yXqJoJy35k",
        "outputId": "e308a69f-b9e1-4810-d7ba-222c5bd6765a",
        "colab": {
          "base_uri": "https://localhost:8080/"
        }
      },
      "outputs": [
        {
          "output_type": "stream",
          "name": "stdout",
          "text": [
            "+--------------------+\n",
            "|                Name|\n",
            "+--------------------+\n",
            "|Braund, Mr. Owen ...|\n",
            "|Cumings, Mrs. Joh...|\n",
            "|Heikkinen, Miss. ...|\n",
            "|Futrelle, Mrs. Ja...|\n",
            "|Allen, Mr. Willia...|\n",
            "|    Moran, Mr. James|\n",
            "|McCarthy, Mr. Tim...|\n",
            "|Palsson, Master. ...|\n",
            "|Johnson, Mrs. Osc...|\n",
            "|Nasser, Mrs. Nich...|\n",
            "+--------------------+\n",
            "only showing top 10 rows\n",
            "\n"
          ]
        }
      ],
      "source": [
        "spark.sql(\"\"\"SELECT Name\n",
        "          FROM tbl_2\"\"\").show(10)"
      ]
    },
    {
      "cell_type": "code",
      "execution_count": null,
      "metadata": {
        "id": "HGZQD7R2TPzH",
        "outputId": "eb3b44d0-dcf5-4481-90f0-c89edf6480a5",
        "colab": {
          "base_uri": "https://localhost:8080/"
        }
      },
      "outputs": [
        {
          "output_type": "stream",
          "name": "stdout",
          "text": [
            "+-----------+--------+------+--------------------+------+----+-----+-----+---------+-------+-----+--------+\n",
            "|PassengerId|Survived|Pclass|                Name|   Sex| Age|SibSp|Parch|   Ticket|   Fare|Cabin|Embarked|\n",
            "+-----------+--------+------+--------------------+------+----+-----+-----+---------+-------+-----+--------+\n",
            "|          1|       0|     3|Braund, Mr. Owen ...|  male|22.0|    1|    0|A/5 21171|   7.25| null|       S|\n",
            "|          2|       1|     1|Cumings, Mrs. Joh...|female|38.0|    1|    0| PC 17599|71.2833|  C85|       C|\n",
            "+-----------+--------+------+--------------------+------+----+-----+-----+---------+-------+-----+--------+\n",
            "only showing top 2 rows\n",
            "\n"
          ]
        }
      ],
      "source": [
        "combined.show(2)"
      ]
    },
    {
      "cell_type": "markdown",
      "metadata": {
        "id": "3F0F9cTZ2Cuz"
      },
      "source": [
        "**Run this code:**"
      ]
    },
    {
      "cell_type": "code",
      "execution_count": null,
      "metadata": {
        "id": "0kx6OcB-2BBT"
      },
      "outputs": [],
      "source": [
        "import pyspark.sql.functions as F\n",
        "combined = combined.withColumn('Title',F.regexp_extract(F.col(\"Name\"),\"([A-Za-z]+)\\.\",1))\n",
        "combined.createOrReplaceTempView('combined')"
      ]
    },
    {
      "cell_type": "markdown",
      "metadata": {
        "id": "xbZeUWS12r59"
      },
      "source": [
        "**Display \"Title\" column and count \"Title\" column:**"
      ]
    },
    {
      "cell_type": "code",
      "execution_count": null,
      "metadata": {
        "id": "hGkFMtlp1FAI",
        "outputId": "455f34b4-8d20-4413-b741-d906bc137bad",
        "colab": {
          "base_uri": "https://localhost:8080/"
        }
      },
      "outputs": [
        {
          "output_type": "stream",
          "name": "stdout",
          "text": [
            "+------+\n",
            "| Title|\n",
            "+------+\n",
            "|    Mr|\n",
            "|   Mrs|\n",
            "|  Miss|\n",
            "|   Mrs|\n",
            "|    Mr|\n",
            "|    Mr|\n",
            "|    Mr|\n",
            "|Master|\n",
            "|   Mrs|\n",
            "|   Mrs|\n",
            "+------+\n",
            "only showing top 10 rows\n",
            "\n"
          ]
        }
      ],
      "source": [
        "spark.sql(\"\"\"SELECT Title\n",
        "          FROM combined\"\"\").show(10)"
      ]
    },
    {
      "cell_type": "code",
      "execution_count": null,
      "metadata": {
        "id": "XJMDE14iTPzI",
        "outputId": "1b79a4ad-36db-4524-8b63-e111e04601c1",
        "colab": {
          "base_uri": "https://localhost:8080/"
        }
      },
      "outputs": [
        {
          "output_type": "stream",
          "name": "stdout",
          "text": [
            "+-------+\n",
            "|D_Title|\n",
            "+-------+\n",
            "|     17|\n",
            "+-------+\n",
            "\n"
          ]
        }
      ],
      "source": [
        "spark.sql(\"\"\"SELECT COUNT(DISTINCT(Title)) AS D_Title\n",
        "          FROM combined\"\"\").show()"
      ]
    },
    {
      "cell_type": "code",
      "execution_count": null,
      "metadata": {
        "id": "okn0a3sGTPzI",
        "colab": {
          "base_uri": "https://localhost:8080/"
        },
        "outputId": "b94a36dd-2613-450f-eccb-3ba4474ac7ea"
      },
      "outputs": [
        {
          "output_type": "stream",
          "name": "stdout",
          "text": [
            "+--------+\n",
            "| D_Title|\n",
            "+--------+\n",
            "|     Don|\n",
            "|    Miss|\n",
            "|Countess|\n",
            "|     Col|\n",
            "|     Rev|\n",
            "|    Lady|\n",
            "|  Master|\n",
            "|     Mme|\n",
            "|    Capt|\n",
            "|      Mr|\n",
            "|      Dr|\n",
            "|     Mrs|\n",
            "|     Sir|\n",
            "|Jonkheer|\n",
            "|    Mlle|\n",
            "|   Major|\n",
            "|      Ms|\n",
            "+--------+\n",
            "\n"
          ]
        }
      ],
      "source": [
        "titlesDF = spark.sql(\"\"\"SELECT DISTINCT(Title) AS D_Title\n",
        "          FROM combined\"\"\")\n",
        "titlesDF.show()"
      ]
    },
    {
      "cell_type": "markdown",
      "metadata": {
        "id": "nLBQDKYu4JOa"
      },
      "source": [
        "**We can see that Dr, Rev, Major, Col, Mlle, Capt, Don, Jonkheer, Countess, Ms, Sir, Lady, and Mme are really rare titles, so create Dictionary and set the value to \"rare\".**"
      ]
    },
    {
      "cell_type": "code",
      "execution_count": null,
      "metadata": {
        "id": "mNqU66ASTPzJ"
      },
      "outputs": [],
      "source": [
        "rare_list = [\"Dr\", \"Rev\", \"Major\", \"Col\", \"Mlle\", \"Capt\", \"Don\", \"Jonkheer\", \"Countess\", \"Ms\", \"Sir\", \"Lady\", \"Mme\"]"
      ]
    },
    {
      "cell_type": "code",
      "execution_count": null,
      "metadata": {
        "id": "LkM8B8RmTPzJ"
      },
      "outputs": [],
      "source": [
        "titles_list = titlesDF.select(F.collect_list('D_Title')).first()[0]"
      ]
    },
    {
      "cell_type": "code",
      "source": [
        "titles_list"
      ],
      "metadata": {
        "colab": {
          "base_uri": "https://localhost:8080/"
        },
        "id": "3nQvXxcap2Ic",
        "outputId": "5bc8364f-8048-42e9-9dd0-69db145a9223"
      },
      "execution_count": null,
      "outputs": [
        {
          "output_type": "execute_result",
          "data": {
            "text/plain": [
              "['Don',\n",
              " 'Miss',\n",
              " 'Countess',\n",
              " 'Col',\n",
              " 'Rev',\n",
              " 'Lady',\n",
              " 'Master',\n",
              " 'Mme',\n",
              " 'Capt',\n",
              " 'Mr',\n",
              " 'Dr',\n",
              " 'Mrs',\n",
              " 'Sir',\n",
              " 'Jonkheer',\n",
              " 'Mlle',\n",
              " 'Major',\n",
              " 'Ms']"
            ]
          },
          "metadata": {},
          "execution_count": 46
        }
      ]
    },
    {
      "cell_type": "code",
      "execution_count": null,
      "metadata": {
        "id": "rjnx5l5r2Qaf"
      },
      "outputs": [],
      "source": [
        "d_titles = {i: 'rare' if i in rare_list else i for i in titles_list}"
      ]
    },
    {
      "cell_type": "code",
      "source": [
        "d_titles"
      ],
      "metadata": {
        "colab": {
          "base_uri": "https://localhost:8080/"
        },
        "id": "mXa4cwSRqMg_",
        "outputId": "3e09e512-20da-4e0f-8642-d86f5ab52bd9"
      },
      "execution_count": null,
      "outputs": [
        {
          "output_type": "execute_result",
          "data": {
            "text/plain": [
              "{'Don': 'rare',\n",
              " 'Miss': 'Miss',\n",
              " 'Countess': 'rare',\n",
              " 'Col': 'rare',\n",
              " 'Rev': 'rare',\n",
              " 'Lady': 'rare',\n",
              " 'Master': 'Master',\n",
              " 'Mme': 'rare',\n",
              " 'Capt': 'rare',\n",
              " 'Mr': 'Mr',\n",
              " 'Dr': 'rare',\n",
              " 'Mrs': 'Mrs',\n",
              " 'Sir': 'rare',\n",
              " 'Jonkheer': 'rare',\n",
              " 'Mlle': 'rare',\n",
              " 'Major': 'rare',\n",
              " 'Ms': 'rare'}"
            ]
          },
          "metadata": {},
          "execution_count": 48
        }
      ]
    },
    {
      "cell_type": "markdown",
      "metadata": {
        "id": "9wrE95Cv7Oqh"
      },
      "source": [
        "**Run the function:**"
      ]
    },
    {
      "cell_type": "code",
      "execution_count": null,
      "metadata": {
        "id": "HdDbWuDl7Pf4"
      },
      "outputs": [],
      "source": [
        "def impute_title(title):\n",
        "    return titles_map[title]# Title_map is your dictionary. please change this name with your dictionary name."
      ]
    },
    {
      "cell_type": "markdown",
      "metadata": {
        "id": "f5EQVIhK7a9R"
      },
      "source": [
        "**Apply the function on \"Title\" column using UDF:**"
      ]
    },
    {
      "cell_type": "code",
      "execution_count": null,
      "metadata": {
        "id": "j2dqx8FkTPzK"
      },
      "outputs": [],
      "source": [
        "from pyspark.sql.types import StringType\n",
        "from pyspark.sql.functions import udf"
      ]
    },
    {
      "cell_type": "code",
      "execution_count": null,
      "metadata": {
        "id": "rBAiIOn77XFa"
      },
      "outputs": [],
      "source": [
        "@udf(returnType=StringType())\n",
        "def impute_title(title):\n",
        "    return d_titles[title]"
      ]
    },
    {
      "cell_type": "code",
      "execution_count": null,
      "metadata": {
        "id": "TTBW9z-kTPzK"
      },
      "outputs": [],
      "source": [
        "combined = combined.withColumn(\"New_Title\", impute_title(F.col(\"Title\")))"
      ]
    },
    {
      "cell_type": "code",
      "source": [
        "combined.show(30)"
      ],
      "metadata": {
        "colab": {
          "base_uri": "https://localhost:8080/"
        },
        "id": "dUolJ1hrrii0",
        "outputId": "2c9431df-0b97-4ac3-c27d-1f791824b8aa"
      },
      "execution_count": null,
      "outputs": [
        {
          "output_type": "stream",
          "name": "stdout",
          "text": [
            "+-----------+--------+------+--------------------+------+----+-----+-----+----------------+-------+-----------+--------+------+---------+\n",
            "|PassengerId|Survived|Pclass|                Name|   Sex| Age|SibSp|Parch|          Ticket|   Fare|      Cabin|Embarked| Title|New_Title|\n",
            "+-----------+--------+------+--------------------+------+----+-----+-----+----------------+-------+-----------+--------+------+---------+\n",
            "|          1|       0|     3|Braund, Mr. Owen ...|  male|22.0|    1|    0|       A/5 21171|   7.25|       null|       S|    Mr|       Mr|\n",
            "|          2|       1|     1|Cumings, Mrs. Joh...|female|38.0|    1|    0|        PC 17599|71.2833|        C85|       C|   Mrs|      Mrs|\n",
            "|          3|       1|     3|Heikkinen, Miss. ...|female|26.0|    0|    0|STON/O2. 3101282|  7.925|       null|       S|  Miss|     Miss|\n",
            "|          4|       1|     1|Futrelle, Mrs. Ja...|female|35.0|    1|    0|          113803|   53.1|       C123|       S|   Mrs|      Mrs|\n",
            "|          5|       0|     3|Allen, Mr. Willia...|  male|35.0|    0|    0|          373450|   8.05|       null|       S|    Mr|       Mr|\n",
            "|          6|       0|     3|    Moran, Mr. James|  male|null|    0|    0|          330877| 8.4583|       null|       Q|    Mr|       Mr|\n",
            "|          7|       0|     1|McCarthy, Mr. Tim...|  male|54.0|    0|    0|           17463|51.8625|        E46|       S|    Mr|       Mr|\n",
            "|          8|       0|     3|Palsson, Master. ...|  male| 2.0|    3|    1|          349909| 21.075|       null|       S|Master|   Master|\n",
            "|          9|       1|     3|Johnson, Mrs. Osc...|female|27.0|    0|    2|          347742|11.1333|       null|       S|   Mrs|      Mrs|\n",
            "|         10|       1|     2|Nasser, Mrs. Nich...|female|14.0|    1|    0|          237736|30.0708|       null|       C|   Mrs|      Mrs|\n",
            "|         11|       1|     3|Sandstrom, Miss. ...|female| 4.0|    1|    1|         PP 9549|   16.7|         G6|       S|  Miss|     Miss|\n",
            "|         12|       1|     1|Bonnell, Miss. El...|female|58.0|    0|    0|          113783|  26.55|       C103|       S|  Miss|     Miss|\n",
            "|         13|       0|     3|Saundercock, Mr. ...|  male|20.0|    0|    0|       A/5. 2151|   8.05|       null|       S|    Mr|       Mr|\n",
            "|         14|       0|     3|Andersson, Mr. An...|  male|39.0|    1|    5|          347082| 31.275|       null|       S|    Mr|       Mr|\n",
            "|         15|       0|     3|Vestrom, Miss. Hu...|female|14.0|    0|    0|          350406| 7.8542|       null|       S|  Miss|     Miss|\n",
            "|         16|       1|     2|Hewlett, Mrs. (Ma...|female|55.0|    0|    0|          248706|   16.0|       null|       S|   Mrs|      Mrs|\n",
            "|         17|       0|     3|Rice, Master. Eugene|  male| 2.0|    4|    1|          382652| 29.125|       null|       Q|Master|   Master|\n",
            "|         18|       1|     2|Williams, Mr. Cha...|  male|null|    0|    0|          244373|   13.0|       null|       S|    Mr|       Mr|\n",
            "|         19|       0|     3|Vander Planke, Mr...|female|31.0|    1|    0|          345763|   18.0|       null|       S|   Mrs|      Mrs|\n",
            "|         20|       1|     3|Masselmani, Mrs. ...|female|null|    0|    0|            2649|  7.225|       null|       C|   Mrs|      Mrs|\n",
            "|         21|       0|     2|Fynney, Mr. Joseph J|  male|35.0|    0|    0|          239865|   26.0|       null|       S|    Mr|       Mr|\n",
            "|         22|       1|     2|Beesley, Mr. Lawr...|  male|34.0|    0|    0|          248698|   13.0|        D56|       S|    Mr|       Mr|\n",
            "|         23|       1|     3|\"McGowan, Miss. A...|female|15.0|    0|    0|          330923| 8.0292|       null|       Q|  Miss|     Miss|\n",
            "|         24|       1|     1|Sloper, Mr. Willi...|  male|28.0|    0|    0|          113788|   35.5|         A6|       S|    Mr|       Mr|\n",
            "|         25|       0|     3|Palsson, Miss. To...|female| 8.0|    3|    1|          349909| 21.075|       null|       S|  Miss|     Miss|\n",
            "|         26|       1|     3|Asplund, Mrs. Car...|female|38.0|    1|    5|          347077|31.3875|       null|       S|   Mrs|      Mrs|\n",
            "|         27|       0|     3|Emir, Mr. Farred ...|  male|null|    0|    0|            2631|  7.225|       null|       C|    Mr|       Mr|\n",
            "|         28|       0|     1|Fortune, Mr. Char...|  male|19.0|    3|    2|           19950|  263.0|C23 C25 C27|       S|    Mr|       Mr|\n",
            "|         29|       1|     3|\"O'Dwyer, Miss. E...|female|null|    0|    0|          330959| 7.8792|       null|       Q|  Miss|     Miss|\n",
            "|         30|       0|     3| Todoroff, Mr. Lalio|  male|null|    0|    0|          349216| 7.8958|       null|       S|    Mr|       Mr|\n",
            "+-----------+--------+------+--------------------+------+----+-----+-----+----------------+-------+-----------+--------+------+---------+\n",
            "only showing top 30 rows\n",
            "\n"
          ]
        }
      ]
    },
    {
      "cell_type": "markdown",
      "metadata": {
        "id": "sn8ewllf7kiV"
      },
      "source": [
        "**Display \"Title\" from table and group by \"Title\" column:**"
      ]
    },
    {
      "cell_type": "code",
      "execution_count": null,
      "metadata": {
        "id": "J9sjQb084GU6",
        "outputId": "3b0e26cc-87bb-402a-b5af-efa9eeea6afa"
      },
      "outputs": [
        {
          "name": "stdout",
          "output_type": "stream",
          "text": [
            "+---------+\n",
            "|New_Title|\n",
            "+---------+\n",
            "|       Mr|\n",
            "|      Mrs|\n",
            "|     Miss|\n",
            "|      Mrs|\n",
            "|       Mr|\n",
            "|       Mr|\n",
            "|       Mr|\n",
            "|   Master|\n",
            "|      Mrs|\n",
            "|      Mrs|\n",
            "|     Miss|\n",
            "|     Miss|\n",
            "|       Mr|\n",
            "|       Mr|\n",
            "|     Miss|\n",
            "|      Mrs|\n",
            "|   Master|\n",
            "|       Mr|\n",
            "|      Mrs|\n",
            "|      Mrs|\n",
            "|       Mr|\n",
            "|       Mr|\n",
            "|     Miss|\n",
            "|       Mr|\n",
            "|     Miss|\n",
            "|      Mrs|\n",
            "|       Mr|\n",
            "|       Mr|\n",
            "|     Miss|\n",
            "|       Mr|\n",
            "|     rare|\n",
            "|      Mrs|\n",
            "|     Miss|\n",
            "|       Mr|\n",
            "|       Mr|\n",
            "|       Mr|\n",
            "|       Mr|\n",
            "|       Mr|\n",
            "|     Miss|\n",
            "|     Miss|\n",
            "|      Mrs|\n",
            "|      Mrs|\n",
            "|       Mr|\n",
            "|     Miss|\n",
            "|     Miss|\n",
            "|       Mr|\n",
            "|       Mr|\n",
            "|     Miss|\n",
            "|       Mr|\n",
            "|      Mrs|\n",
            "+---------+\n",
            "only showing top 50 rows\n",
            "\n"
          ]
        }
      ],
      "source": [
        "combined.select('New_Title').show(50)"
      ]
    },
    {
      "cell_type": "code",
      "execution_count": null,
      "metadata": {
        "id": "K_TfjKHRTPzL"
      },
      "outputs": [],
      "source": [
        "combined.createOrReplaceTempView('combined')"
      ]
    },
    {
      "cell_type": "code",
      "execution_count": null,
      "metadata": {
        "id": "MDRML3hpTPzM",
        "outputId": "77b24e9e-f09a-4680-bb85-e7677b2827e4"
      },
      "outputs": [
        {
          "name": "stdout",
          "output_type": "stream",
          "text": [
            "+---------+----------------+\n",
            "|New_Title|count(New_Title)|\n",
            "+---------+----------------+\n",
            "|     rare|              44|\n",
            "|     Miss|             257|\n",
            "|   Master|              56|\n",
            "|       Mr|             786|\n",
            "|      Mrs|             186|\n",
            "+---------+----------------+\n",
            "\n"
          ]
        }
      ],
      "source": [
        "spark.sql(\"\"\"SELECT New_Title, COUNT(New_Title)\n",
        "          FROM combined\n",
        "          GROUP BY New_Title\"\"\").show()"
      ]
    },
    {
      "cell_type": "markdown",
      "metadata": {
        "id": "-H45QNLj9vJp"
      },
      "source": [
        "## **Preprocessing Age**"
      ]
    },
    {
      "cell_type": "markdown",
      "metadata": {
        "id": "XwRAhumK-u__"
      },
      "source": [
        "**Based on the \"age\" column mean, you will fill in the missing age values:**"
      ]
    },
    {
      "cell_type": "code",
      "execution_count": null,
      "metadata": {
        "id": "5EQz0MJzTPzM"
      },
      "outputs": [],
      "source": [
        "from pyspark.sql.functions import mean as _mean"
      ]
    },
    {
      "cell_type": "code",
      "execution_count": null,
      "metadata": {
        "id": "eXYSVzvl4z63"
      },
      "outputs": [],
      "source": [
        "mean_age = round(combined.select(_mean(col('Age'))).collect()[0][0],3)"
      ]
    },
    {
      "cell_type": "markdown",
      "metadata": {
        "id": "JLPivde8_GI-"
      },
      "source": [
        "**Fill missing with \"age\" mean:**"
      ]
    },
    {
      "cell_type": "code",
      "execution_count": null,
      "metadata": {
        "id": "lBgW8aFD90PA"
      },
      "outputs": [],
      "source": [
        "combined = combined.na.fill(value=mean_age,subset=[\"Age\"])"
      ]
    },
    {
      "cell_type": "code",
      "source": [
        "combined.select([count(when(isnan(c) | col(c).isNull(), c)).alias(c) for c in combined.columns]).show()"
      ],
      "metadata": {
        "colab": {
          "base_uri": "https://localhost:8080/"
        },
        "id": "2J2jzo1vwqO7",
        "outputId": "d1db61e3-e97d-4bbc-83d1-b767c260d4d2"
      },
      "execution_count": null,
      "outputs": [
        {
          "output_type": "stream",
          "name": "stdout",
          "text": [
            "+-----------+--------+------+----+---+---+-----+-----+------+----+-----+--------+-----+---------+\n",
            "|PassengerId|Survived|Pclass|Name|Sex|Age|SibSp|Parch|Ticket|Fare|Cabin|Embarked|Title|New_Title|\n",
            "+-----------+--------+------+----+---+---+-----+-----+------+----+-----+--------+-----+---------+\n",
            "|          0|       0|     0|   0|  0|  0|    0|    0|     0|   0| 1021|       3|    0|        0|\n",
            "+-----------+--------+------+----+---+---+-----+-----+------+----+-----+--------+-----+---------+\n",
            "\n"
          ]
        }
      ]
    },
    {
      "cell_type": "markdown",
      "metadata": {
        "id": "jGsnUz-m_P95"
      },
      "source": [
        "## **Preprocessing Embarked**"
      ]
    },
    {
      "cell_type": "markdown",
      "metadata": {
        "id": "iHbbamcXMSYP"
      },
      "source": [
        "**Select \"Embarked\" column, count them, order by count Desc, and save in grouped_Embarked variable:**\n",
        "\n",
        "\n"
      ]
    },
    {
      "cell_type": "code",
      "execution_count": null,
      "metadata": {
        "id": "v-lRu5vc_FW7",
        "outputId": "9b4b8f66-3daf-4678-8d84-fea51f319a17",
        "colab": {
          "base_uri": "https://localhost:8080/"
        }
      },
      "outputs": [
        {
          "output_type": "stream",
          "name": "stdout",
          "text": [
            "+--------+-----+\n",
            "|Embarked|count|\n",
            "+--------+-----+\n",
            "|S       |962  |\n",
            "|C       |253  |\n",
            "|Q       |111  |\n",
            "|null    |3    |\n",
            "+--------+-----+\n",
            "\n"
          ]
        }
      ],
      "source": [
        "combined.select('Embarked', 'Name')\\\n",
        " .groupBy('Embarked')\\\n",
        " .count()\\\n",
        " .orderBy('count',ascending=False)\\\n",
        " .show(10,False)"
      ]
    },
    {
      "cell_type": "code",
      "execution_count": null,
      "metadata": {
        "id": "ZyYl-78iTPzP"
      },
      "outputs": [],
      "source": [
        "grouped_Embarked = combined.select('Embarked', 'Name')\\\n",
        " .groupBy('Embarked')\\\n",
        " .count()\\\n",
        " .orderBy('count',ascending=False)"
      ]
    },
    {
      "cell_type": "markdown",
      "metadata": {
        "id": "E1qf5u2IOQrx"
      },
      "source": [
        "**Show \"groupped_Embarked\" your variable:**"
      ]
    },
    {
      "cell_type": "code",
      "execution_count": null,
      "metadata": {
        "id": "jSFNDTNg_erb",
        "outputId": "80148bb5-da96-4c7e-d4fb-b6b3bea97778",
        "colab": {
          "base_uri": "https://localhost:8080/"
        }
      },
      "outputs": [
        {
          "output_type": "stream",
          "name": "stdout",
          "text": [
            "+--------+-----+\n",
            "|Embarked|count|\n",
            "+--------+-----+\n",
            "|       S|  962|\n",
            "|       C|  253|\n",
            "|       Q|  111|\n",
            "|    null|    3|\n",
            "+--------+-----+\n",
            "\n"
          ]
        }
      ],
      "source": [
        "grouped_Embarked.show()"
      ]
    },
    {
      "cell_type": "markdown",
      "metadata": {
        "id": "mzQWYgKBMrbp"
      },
      "source": [
        "**Get max of groupped_Embarked:**"
      ]
    },
    {
      "cell_type": "code",
      "execution_count": null,
      "metadata": {
        "id": "JB-x_6ueTPzP"
      },
      "outputs": [],
      "source": [
        "max_count = grouped_Embarked.groupby().max('count').collect()[0][0]"
      ]
    },
    {
      "cell_type": "code",
      "source": [
        "max_count"
      ],
      "metadata": {
        "colab": {
          "base_uri": "https://localhost:8080/"
        },
        "id": "Tp1RSXPy0wkh",
        "outputId": "25faed74-ff60-4692-ca0a-301d877ace92"
      },
      "execution_count": null,
      "outputs": [
        {
          "output_type": "execute_result",
          "data": {
            "text/plain": [
              "962"
            ]
          },
          "metadata": {},
          "execution_count": 91
        }
      ]
    },
    {
      "cell_type": "code",
      "execution_count": null,
      "metadata": {
        "id": "ZLYj4F7E_iqb",
        "outputId": "eeb4c1f8-71dd-4968-c19c-7fb9759a7931",
        "colab": {
          "base_uri": "https://localhost:8080/",
          "height": 55
        }
      },
      "outputs": [
        {
          "output_type": "execute_result",
          "data": {
            "text/plain": [
              "'S'"
            ],
            "application/vnd.google.colaboratory.intrinsic+json": {
              "type": "string"
            }
          },
          "metadata": {},
          "execution_count": 90
        }
      ],
      "source": [
        "max_embarked = grouped_Embarked.filter(expr(\"count\") == max_count).select('Embarked').collect()[0][0]\n",
        "max_embarked"
      ]
    },
    {
      "cell_type": "markdown",
      "metadata": {
        "id": "L8vhoEs8N2w_"
      },
      "source": [
        "**Fill missing values with max 'S' of grouped_Embarked:**"
      ]
    },
    {
      "cell_type": "code",
      "execution_count": null,
      "metadata": {
        "id": "LdzQCRud_mAa"
      },
      "outputs": [],
      "source": [
        "combined = combined.na.fill(value=max_embarked,subset=[\"Embarked\"])"
      ]
    },
    {
      "cell_type": "markdown",
      "metadata": {
        "id": "TEcdV5Vb_qR_"
      },
      "source": [
        "## **Preprocessing Cabin**"
      ]
    },
    {
      "cell_type": "markdown",
      "metadata": {
        "id": "_BQzPs7tqhpA"
      },
      "source": [
        "**Replace \"cabin\" column with first char from the string:**\n",
        "\n"
      ]
    },
    {
      "cell_type": "code",
      "execution_count": null,
      "metadata": {
        "id": "4b6L5pK0_nQz"
      },
      "outputs": [],
      "source": [
        "@udf(returnType=StringType())\n",
        "def replace_char(value):\n",
        "    if value != None:\n",
        "        return value[0]"
      ]
    },
    {
      "cell_type": "code",
      "execution_count": null,
      "metadata": {
        "id": "UL9qz6_vTPzQ"
      },
      "outputs": [],
      "source": [
        "combined = combined.withColumn(\"cabin\", replace_char(F.col(\"cabin\")))"
      ]
    },
    {
      "cell_type": "markdown",
      "metadata": {
        "id": "6H8XshnYj4k2"
      },
      "source": [
        "**Show the result:**"
      ]
    },
    {
      "cell_type": "code",
      "execution_count": null,
      "metadata": {
        "id": "gJUQwnG1Oj2U",
        "outputId": "b7b4f4ad-cfcc-4773-e6cf-79c5637ab1f9",
        "colab": {
          "base_uri": "https://localhost:8080/"
        }
      },
      "outputs": [
        {
          "output_type": "stream",
          "name": "stdout",
          "text": [
            "+-----------+--------+------+--------------------+------+-----+-----+-----+----------------+-------+-----+--------+------+---------+\n",
            "|PassengerId|Survived|Pclass|                Name|   Sex|  Age|SibSp|Parch|          Ticket|   Fare|cabin|Embarked| Title|New_Title|\n",
            "+-----------+--------+------+--------------------+------+-----+-----+-----+----------------+-------+-----+--------+------+---------+\n",
            "|          1|       0|     3|Braund, Mr. Owen ...|  male| 22.0|    1|    0|       A/5 21171|   7.25|    M|       S|    Mr|       Mr|\n",
            "|          2|       1|     1|Cumings, Mrs. Joh...|female| 38.0|    1|    0|        PC 17599|71.2833|    C|       C|   Mrs|      Mrs|\n",
            "|          3|       1|     3|Heikkinen, Miss. ...|female| 26.0|    0|    0|STON/O2. 3101282|  7.925|    M|       S|  Miss|     Miss|\n",
            "|          4|       1|     1|Futrelle, Mrs. Ja...|female| 35.0|    1|    0|          113803|   53.1|    C|       S|   Mrs|      Mrs|\n",
            "|          5|       0|     3|Allen, Mr. Willia...|  male| 35.0|    0|    0|          373450|   8.05|    M|       S|    Mr|       Mr|\n",
            "|          6|       0|     3|    Moran, Mr. James|  male|30.08|    0|    0|          330877| 8.4583|    M|       Q|    Mr|       Mr|\n",
            "|          7|       0|     1|McCarthy, Mr. Tim...|  male| 54.0|    0|    0|           17463|51.8625|    E|       S|    Mr|       Mr|\n",
            "|          8|       0|     3|Palsson, Master. ...|  male|  2.0|    3|    1|          349909| 21.075|    M|       S|Master|   Master|\n",
            "|          9|       1|     3|Johnson, Mrs. Osc...|female| 27.0|    0|    2|          347742|11.1333|    M|       S|   Mrs|      Mrs|\n",
            "|         10|       1|     2|Nasser, Mrs. Nich...|female| 14.0|    1|    0|          237736|30.0708|    M|       C|   Mrs|      Mrs|\n",
            "|         11|       1|     3|Sandstrom, Miss. ...|female|  4.0|    1|    1|         PP 9549|   16.7|    G|       S|  Miss|     Miss|\n",
            "|         12|       1|     1|Bonnell, Miss. El...|female| 58.0|    0|    0|          113783|  26.55|    C|       S|  Miss|     Miss|\n",
            "|         13|       0|     3|Saundercock, Mr. ...|  male| 20.0|    0|    0|       A/5. 2151|   8.05|    M|       S|    Mr|       Mr|\n",
            "|         14|       0|     3|Andersson, Mr. An...|  male| 39.0|    1|    5|          347082| 31.275|    M|       S|    Mr|       Mr|\n",
            "|         15|       0|     3|Vestrom, Miss. Hu...|female| 14.0|    0|    0|          350406| 7.8542|    M|       S|  Miss|     Miss|\n",
            "|         16|       1|     2|Hewlett, Mrs. (Ma...|female| 55.0|    0|    0|          248706|   16.0|    M|       S|   Mrs|      Mrs|\n",
            "|         17|       0|     3|Rice, Master. Eugene|  male|  2.0|    4|    1|          382652| 29.125|    M|       Q|Master|   Master|\n",
            "|         18|       1|     2|Williams, Mr. Cha...|  male|30.08|    0|    0|          244373|   13.0|    M|       S|    Mr|       Mr|\n",
            "|         19|       0|     3|Vander Planke, Mr...|female| 31.0|    1|    0|          345763|   18.0|    M|       S|   Mrs|      Mrs|\n",
            "|         20|       1|     3|Masselmani, Mrs. ...|female|30.08|    0|    0|            2649|  7.225|    M|       C|   Mrs|      Mrs|\n",
            "+-----------+--------+------+--------------------+------+-----+-----+-----+----------------+-------+-----+--------+------+---------+\n",
            "only showing top 20 rows\n",
            "\n"
          ]
        }
      ],
      "source": [
        "combined.show()"
      ]
    },
    {
      "cell_type": "markdown",
      "metadata": {
        "id": "yzSDsWsUj9Im"
      },
      "source": [
        "**Create the temporary view:**"
      ]
    },
    {
      "cell_type": "code",
      "execution_count": null,
      "metadata": {
        "id": "MR7CXTY7_tMJ"
      },
      "outputs": [],
      "source": [
        "combined.createOrReplaceTempView('combined')"
      ]
    },
    {
      "cell_type": "markdown",
      "metadata": {
        "id": "Gv7lfQFkrLlN"
      },
      "source": [
        "**Select \"Cabin\" column, count \"Cabin\" column, Group by \"Cabin\" column, Order By count DESC**  "
      ]
    },
    {
      "cell_type": "code",
      "execution_count": null,
      "metadata": {
        "id": "A0tZG_mvrKXv",
        "outputId": "449c7f3d-5aa8-4f62-e660-234683da7570"
      },
      "outputs": [
        {
          "name": "stdout",
          "output_type": "stream",
          "text": [
            "+-----+-----+\n",
            "|cabin|count|\n",
            "+-----+-----+\n",
            "| null| 1021|\n",
            "|    C|   82|\n",
            "|    B|   77|\n",
            "|    D|   52|\n",
            "|    E|   51|\n",
            "|    A|   23|\n",
            "|    F|   18|\n",
            "|    G|    4|\n",
            "|    T|    1|\n",
            "+-----+-----+\n",
            "\n"
          ]
        }
      ],
      "source": [
        "spark.sql(\"\"\"SELECT cabin, COUNT(*) AS count\n",
        "          FROM combined\n",
        "          GROUP BY cabin\n",
        "          ORDER BY count DESC\"\"\").show()"
      ]
    },
    {
      "cell_type": "markdown",
      "metadata": {
        "id": "1GR6j0LOsB4y"
      },
      "source": [
        "**Fill missing values with \"M\":**"
      ]
    },
    {
      "cell_type": "code",
      "execution_count": null,
      "metadata": {
        "id": "mwq5CHEz_up_"
      },
      "outputs": [],
      "source": [
        "combined = combined.na.fill(value='M',subset=[\"cabin\"])"
      ]
    },
    {
      "cell_type": "code",
      "source": [
        "combined.show()"
      ],
      "metadata": {
        "colab": {
          "base_uri": "https://localhost:8080/"
        },
        "id": "yUCMPE6e5i3j",
        "outputId": "461f3ff0-6e3d-498c-c1e3-150ba1745d40"
      },
      "execution_count": null,
      "outputs": [
        {
          "output_type": "stream",
          "name": "stdout",
          "text": [
            "+-----------+--------+------+--------------------+------+-----+-----+-----+----------------+-------+-----+--------+------+---------+\n",
            "|PassengerId|Survived|Pclass|                Name|   Sex|  Age|SibSp|Parch|          Ticket|   Fare|cabin|Embarked| Title|New_Title|\n",
            "+-----------+--------+------+--------------------+------+-----+-----+-----+----------------+-------+-----+--------+------+---------+\n",
            "|          1|       0|     3|Braund, Mr. Owen ...|  male| 22.0|    1|    0|       A/5 21171|   7.25|    M|       S|    Mr|       Mr|\n",
            "|          2|       1|     1|Cumings, Mrs. Joh...|female| 38.0|    1|    0|        PC 17599|71.2833|    C|       C|   Mrs|      Mrs|\n",
            "|          3|       1|     3|Heikkinen, Miss. ...|female| 26.0|    0|    0|STON/O2. 3101282|  7.925|    M|       S|  Miss|     Miss|\n",
            "|          4|       1|     1|Futrelle, Mrs. Ja...|female| 35.0|    1|    0|          113803|   53.1|    C|       S|   Mrs|      Mrs|\n",
            "|          5|       0|     3|Allen, Mr. Willia...|  male| 35.0|    0|    0|          373450|   8.05|    M|       S|    Mr|       Mr|\n",
            "|          6|       0|     3|    Moran, Mr. James|  male|30.08|    0|    0|          330877| 8.4583|    M|       Q|    Mr|       Mr|\n",
            "|          7|       0|     1|McCarthy, Mr. Tim...|  male| 54.0|    0|    0|           17463|51.8625|    E|       S|    Mr|       Mr|\n",
            "|          8|       0|     3|Palsson, Master. ...|  male|  2.0|    3|    1|          349909| 21.075|    M|       S|Master|   Master|\n",
            "|          9|       1|     3|Johnson, Mrs. Osc...|female| 27.0|    0|    2|          347742|11.1333|    M|       S|   Mrs|      Mrs|\n",
            "|         10|       1|     2|Nasser, Mrs. Nich...|female| 14.0|    1|    0|          237736|30.0708|    M|       C|   Mrs|      Mrs|\n",
            "|         11|       1|     3|Sandstrom, Miss. ...|female|  4.0|    1|    1|         PP 9549|   16.7|    G|       S|  Miss|     Miss|\n",
            "|         12|       1|     1|Bonnell, Miss. El...|female| 58.0|    0|    0|          113783|  26.55|    C|       S|  Miss|     Miss|\n",
            "|         13|       0|     3|Saundercock, Mr. ...|  male| 20.0|    0|    0|       A/5. 2151|   8.05|    M|       S|    Mr|       Mr|\n",
            "|         14|       0|     3|Andersson, Mr. An...|  male| 39.0|    1|    5|          347082| 31.275|    M|       S|    Mr|       Mr|\n",
            "|         15|       0|     3|Vestrom, Miss. Hu...|female| 14.0|    0|    0|          350406| 7.8542|    M|       S|  Miss|     Miss|\n",
            "|         16|       1|     2|Hewlett, Mrs. (Ma...|female| 55.0|    0|    0|          248706|   16.0|    M|       S|   Mrs|      Mrs|\n",
            "|         17|       0|     3|Rice, Master. Eugene|  male|  2.0|    4|    1|          382652| 29.125|    M|       Q|Master|   Master|\n",
            "|         18|       1|     2|Williams, Mr. Cha...|  male|30.08|    0|    0|          244373|   13.0|    M|       S|    Mr|       Mr|\n",
            "|         19|       0|     3|Vander Planke, Mr...|female| 31.0|    1|    0|          345763|   18.0|    M|       S|   Mrs|      Mrs|\n",
            "|         20|       1|     3|Masselmani, Mrs. ...|female|30.08|    0|    0|            2649|  7.225|    M|       C|   Mrs|      Mrs|\n",
            "+-----------+--------+------+--------------------+------+-----+-----+-----+----------------+-------+-----+--------+------+---------+\n",
            "only showing top 20 rows\n",
            "\n"
          ]
        }
      ]
    },
    {
      "cell_type": "code",
      "execution_count": null,
      "metadata": {
        "id": "Jy9RhDDfTPzS"
      },
      "outputs": [],
      "source": [
        "from pyspark.ml import Pipeline\n",
        "from pyspark.ml.classification import RandomForestClassifier\n",
        "from pyspark.ml.evaluation import MulticlassClassificationEvaluator\n",
        "from pyspark.ml.feature import StringIndexer, OneHotEncoder, VectorAssembler"
      ]
    },
    {
      "cell_type": "markdown",
      "metadata": {
        "id": "RRnhA_5-0Hi4"
      },
      "source": [
        "**StringIndexer: A label indexer that maps a string column of labels to an ML column of label indices. If the input column is numeric, we cast it to string and index the string values. The indices are in [0, numLabels). By default, this is ordered by label frequencies so the most frequent label gets index 0. The ordering behavior is controlled by setting stringOrderType. Its default value is ‘frequencyDesc’.**"
      ]
    },
    {
      "cell_type": "markdown",
      "metadata": {
        "id": "1RIKlOX71GQ-"
      },
      "source": [
        "**StringIndexer(inputCol=None, outputCol=None)**"
      ]
    },
    {
      "cell_type": "code",
      "execution_count": null,
      "metadata": {
        "id": "odhuI2EHKuCm"
      },
      "outputs": [],
      "source": [
        "categoricalCols = [field for (field, dataType) in combined.dtypes\n",
        "                   if ((dataType == \"string\") & (field!='Title'))]\n",
        "\n",
        "indexOutputCols = [x + \"_Index\" for x in categoricalCols]\n",
        "\n",
        "oheOutputCols = [x + \"_OHE\" for x in categoricalCols]\n",
        "\n",
        "stringIndexer = StringIndexer(inputCols=categoricalCols,\n",
        "                             outputCols=indexOutputCols,\n",
        "                             handleInvalid='skip')"
      ]
    },
    {
      "cell_type": "markdown",
      "metadata": {
        "id": "1DECL9yCK3JZ"
      },
      "source": [
        "**OneHotEncoder(inputCols=None, outputCols=None)**\n",
        "\n",
        "A one-hot encoder that maps a column of category indices to a column of binary vectors, with at most a single one-value per row that indicates the input category index. For example with 5 categories, an input value of 2.0 would map to an output vector of [0.0, 0.0, 1.0, 0.0]. The last category is not included by default (configurable via dropLast), because it makes the vector entries sum up to one, and hence linearly dependent. So an input value of 4.0 maps to [0.0, 0.0, 0.0, 0.0]."
      ]
    },
    {
      "cell_type": "code",
      "execution_count": null,
      "metadata": {
        "id": "tiAjDEy1LBhz"
      },
      "outputs": [],
      "source": [
        "oheEncoder = OneHotEncoder(inputCols=indexOutputCols,\n",
        "                          outputCols=oheOutputCols)"
      ]
    },
    {
      "cell_type": "markdown",
      "metadata": {
        "id": "1FsiLsd9452v"
      },
      "source": [
        "**VectorAssembler: VectorAssembler(*, inputCols=None, outputCol=None). A feature transformer that merges multiple columns into a vector column.**\n",
        "\n"
      ]
    },
    {
      "cell_type": "code",
      "execution_count": null,
      "metadata": {
        "id": "BuytKk0hLE6p"
      },
      "outputs": [],
      "source": [
        "numericCols = [field for (field,dataType) in combined.dtypes\n",
        "              if ((dataType!='string') & (field!='Survived'))]"
      ]
    },
    {
      "cell_type": "code",
      "execution_count": null,
      "metadata": {
        "id": "8NoU56HdTPzU"
      },
      "outputs": [],
      "source": [
        "assemblerInputs = oheOutputCols + numericCols"
      ]
    },
    {
      "cell_type": "code",
      "execution_count": null,
      "metadata": {
        "id": "l9VmhMJcTPzU"
      },
      "outputs": [],
      "source": [
        "vecAssembler = VectorAssembler(inputCols=assemblerInputs, outputCol='features')"
      ]
    },
    {
      "cell_type": "markdown",
      "metadata": {
        "id": "dU8DeZfh7JIo"
      },
      "source": [
        "**Use randomSplit function and split data to x_train, and X_test with 80% and 20% Consecutive**"
      ]
    },
    {
      "cell_type": "code",
      "execution_count": null,
      "metadata": {
        "id": "8C11xf1iAzKp"
      },
      "outputs": [],
      "source": [
        "X_train, X_test = combined.randomSplit([0.8, 0.2], seed=42)"
      ]
    },
    {
      "cell_type": "markdown",
      "metadata": {
        "id": "c0c_Hf_b0R12"
      },
      "source": [
        "**Pipeline: ML Pipelines provide a uniform set of high-level APIs built on top of DataFrames that help users create and tune practical machine learning pipelines.**"
      ]
    },
    {
      "cell_type": "markdown",
      "metadata": {
        "id": "IJQvmFai72O7"
      },
      "source": [
        "**Build RandomForestClassifier model and use pipeline to fit and transform then display \"prediction, Survived, features\" columns**"
      ]
    },
    {
      "cell_type": "code",
      "execution_count": null,
      "metadata": {
        "id": "YnpmZqlTLPGq"
      },
      "outputs": [],
      "source": [
        "rfc = RandomForestClassifier(labelCol='Survived', featuresCol='features')"
      ]
    },
    {
      "cell_type": "code",
      "execution_count": null,
      "metadata": {
        "id": "mh5vctAHTPzV"
      },
      "outputs": [],
      "source": [
        "pipeline = Pipeline(stages = [stringIndexer, oheEncoder, vecAssembler, rfc])"
      ]
    },
    {
      "cell_type": "code",
      "execution_count": null,
      "metadata": {
        "id": "BNbBPTkCTPzV"
      },
      "outputs": [],
      "source": [
        "pipelineModel = pipeline.fit(X_train)\n",
        "predDF = pipelineModel.transform(X_test)"
      ]
    },
    {
      "cell_type": "code",
      "source": [
        "predDF.show()"
      ],
      "metadata": {
        "colab": {
          "base_uri": "https://localhost:8080/"
        },
        "id": "_xkcH_Ok93cM",
        "outputId": "0ed7190f-6e61-4c17-ded2-7c5b3d2cbdb3"
      },
      "execution_count": null,
      "outputs": [
        {
          "output_type": "stream",
          "name": "stdout",
          "text": [
            "+-----------+--------+------+--------------------+------+-----+-----+-----+----------------+-------+-----+--------+------+---------+----------+---------+------------+-----------+--------------+---------------+-----------------+-------------+-----------------+-------------+-------------+-------------+--------------------+--------------------+--------------------+----------+\n",
            "|PassengerId|Survived|Pclass|                Name|   Sex|  Age|SibSp|Parch|          Ticket|   Fare|cabin|Embarked| Title|New_Title|Name_Index|Sex_Index|Ticket_Index|cabin_Index|Embarked_Index|New_Title_Index|         Name_OHE|      Sex_OHE|       Ticket_OHE|    cabin_OHE| Embarked_OHE|New_Title_OHE|            features|       rawPrediction|         probability|prediction|\n",
            "+-----------+--------+------+--------------------+------+-----+-----+-----+----------------+-------+-----+--------+------+---------+----------+---------+------------+-----------+--------------+---------------+-----------------+-------------+-----------------+-------------+-------------+-------------+--------------------+--------------------+--------------------+----------+\n",
            "|        464|       0|     2|Milling, Mr. Jaco...|  male| 48.0|    0|    0|          234360|   13.0|    M|       S|    Mr|       Mr|     600.0|      0.0|       350.0|        0.0|           0.0|            0.0|(811,[600],[1.0])|(1,[0],[1.0])|(632,[350],[1.0])|(8,[0],[1.0])|(2,[0],[1.0])|(4,[0],[1.0])|(1464,[600,811,11...|[14.1228536023664...|[0.70614268011832...|       0.0|\n",
            "|        474|       1|     2|Jerwan, Mrs. Amin...|female| 23.0|    0|    0| SC/AH Basle 541|13.7917|    D|       C|   Mrs|      Mrs|     533.0|      1.0|       602.0|        3.0|           1.0|            2.0|(811,[533],[1.0])|    (1,[],[])|(632,[602],[1.0])|(8,[3],[1.0])|(2,[1],[1.0])|(4,[2],[1.0])|(1464,[533,1414,1...|[9.63331618514523...|[0.48166580925726...|       1.0|\n",
            "|        477|       0|     2|Renouf, Mr. Peter...|  male| 34.0|    1|    0|           31027|   21.0|    M|       S|    Mr|       Mr|     684.0|      0.0|        60.0|        0.0|           0.0|            0.0|(811,[684],[1.0])|(1,[0],[1.0])| (632,[60],[1.0])|(8,[0],[1.0])|(2,[0],[1.0])|(4,[0],[1.0])|(1464,[684,811,87...|[13.6268042613787...|[0.68134021306893...|       0.0|\n",
            "|        480|       1|     3|Hirvonen, Miss. H...|female|  2.0|    0|    1|         3101298|12.2875|    M|       S|  Miss|     Miss|     515.0|      1.0|       413.0|        0.0|           0.0|            1.0|(811,[515],[1.0])|    (1,[],[])|(632,[413],[1.0])|(8,[0],[1.0])|(2,[0],[1.0])|(4,[1],[1.0])|(1464,[515,1225,1...|[11.2909298546383...|[0.56454649273191...|       0.0|\n",
            "|        485|       1|     1|Bishop, Mr. Dicki...|  male| 25.0|    1|    0|           11967|91.0792|    B|       C|    Mr|       Mr|     366.0|      0.0|       333.0|        2.0|           1.0|            0.0|(811,[366],[1.0])|(1,[0],[1.0])|(632,[333],[1.0])|(8,[2],[1.0])|(2,[1],[1.0])|(4,[0],[1.0])|(1464,[366,811,11...|[11.1229348440351...|[0.55614674220175...|       0.0|\n",
            "|        490|       1|     3|\"Coutts, Master. ...|  male|  9.0|    1|    1|      C.A. 37671|   15.9|    M|       S|Master|   Master|     288.0|      0.0|       572.0|        0.0|           0.0|            3.0|(811,[288],[1.0])|(1,[0],[1.0])|(632,[572],[1.0])|(8,[0],[1.0])|(2,[0],[1.0])|(4,[3],[1.0])|(1464,[288,811,13...|[12.0686217909753...|[0.60343108954876...|       0.0|\n",
            "|        497|       1|     1|Eustis, Miss. Eli...|female| 54.0|    1|    0|           36947|78.2667|    D|       C|  Miss|     Miss|     444.0|      1.0|        66.0|        3.0|           1.0|            1.0|(811,[444],[1.0])|    (1,[],[])| (632,[66],[1.0])|(8,[3],[1.0])|(2,[1],[1.0])|(4,[1],[1.0])|(1464,[444,878,14...|[7.97429507920554...|[0.39871475396027...|       1.0|\n",
            "|        504|       0|     3|Laitinen, Miss. K...|female| 37.0|    0|    0|            4135| 9.5875|    M|       S|  Miss|     Miss|     556.0|      1.0|       529.0|        0.0|           0.0|            1.0|(811,[556],[1.0])|    (1,[],[])|(632,[529],[1.0])|(8,[0],[1.0])|(2,[0],[1.0])|(4,[1],[1.0])|(1464,[556,1341,1...|[11.5684129349383...|[0.57842064674691...|       0.0|\n",
            "|        505|       1|     1|Maioni, Miss. Rob...|female| 16.0|    0|    0|          110152|   86.5|    B|       S|  Miss|     Miss|     582.0|      1.0|        17.0|        2.0|           0.0|            1.0|(811,[582],[1.0])|    (1,[],[])| (632,[17],[1.0])|(8,[2],[1.0])|(2,[0],[1.0])|(4,[1],[1.0])|(1464,[582,829,14...|[9.71814717929636...|[0.48590735896481...|       1.0|\n",
            "|        507|       1|     2|Quick, Mrs. Frede...|female| 33.0|    0|    2|           26360|   26.0|    M|       S|   Mrs|      Mrs|     679.0|      1.0|        53.0|        0.0|           0.0|            2.0|(811,[679],[1.0])|    (1,[],[])| (632,[53],[1.0])|(8,[0],[1.0])|(2,[0],[1.0])|(4,[2],[1.0])|(1464,[679,865,14...|[9.65729516161736...|[0.48286475808086...|       1.0|\n",
            "|        512|       0|     3|   Webber, Mr. James|  male|30.08|    0|    0|SOTON/OQ 3101316|   8.05|    M|       S|    Mr|       Mr|     786.0|      0.0|       613.0|        0.0|           0.0|            0.0|(811,[786],[1.0])|(1,[0],[1.0])|(632,[613],[1.0])|(8,[0],[1.0])|(2,[0],[1.0])|(4,[0],[1.0])|(1464,[786,811,14...|[14.9500262466133...|[0.74750131233066...|       0.0|\n",
            "|        515|       0|     3|   Coleff, Mr. Satio|  male| 24.0|    0|    0|          349209| 7.4958|    M|       S|    Mr|       Mr|     407.0|      0.0|       475.0|        0.0|           0.0|            0.0|(811,[407],[1.0])|(1,[0],[1.0])|(632,[475],[1.0])|(8,[0],[1.0])|(2,[0],[1.0])|(4,[0],[1.0])|(1464,[407,811,12...|[14.9500262466133...|[0.74750131233066...|       0.0|\n",
            "|        518|       0|     3|   Ryan, Mr. Patrick|  male|30.08|    0|    0|          371110|  24.15|    M|       Q|    Mr|       Mr|     702.0|      0.0|        28.0|        0.0|           2.0|            0.0|(811,[702],[1.0])|(1,[0],[1.0])| (632,[28],[1.0])|(8,[0],[1.0])|    (2,[],[])|(4,[0],[1.0])|(1464,[702,811,84...|[14.1646268228626...|[0.70823134114313...|       0.0|\n",
            "|        519|       1|     2|\"Angle, Mrs. Will...|female| 36.0|    1|    0|          226875|   26.0|    M|       S|   Mrs|      Mrs|     283.0|      1.0|       344.0|        0.0|           0.0|            2.0|(811,[283],[1.0])|    (1,[],[])|(632,[344],[1.0])|(8,[0],[1.0])|(2,[0],[1.0])|(4,[2],[1.0])|(1464,[283,1156,1...|[10.6823900733911...|[0.53411950366956...|       0.0|\n",
            "|        537|       0|     1|Butt, Major. Arch...|  male| 45.0|    0|    0|          113050|  26.55|    B|       S| Major|     rare|     385.0|      0.0|       311.0|        2.0|           0.0|            4.0|(811,[385],[1.0])|(1,[0],[1.0])|(632,[311],[1.0])|(8,[2],[1.0])|(2,[0],[1.0])|    (4,[],[])|(1464,[385,811,11...|[11.0202624201448...|[0.55101312100724...|       0.0|\n",
            "|        549|       0|     3|Goldsmith, Mr. Fr...|  male| 33.0|    1|    1|          363291| 20.525|    M|       S|    Mr|       Mr|     474.0|      0.0|        63.0|        0.0|           0.0|            0.0|(811,[474],[1.0])|(1,[0],[1.0])| (632,[63],[1.0])|(8,[0],[1.0])|(2,[0],[1.0])|(4,[0],[1.0])|(1464,[474,811,87...|[14.4539769056256...|[0.72269884528128...|       0.0|\n",
            "|        555|       1|     3|  Ohman, Miss. Velin|female| 22.0|    0|    0|          347085|  7.775|    M|       S|  Miss|     Miss|     643.0|      1.0|       464.0|        0.0|           0.0|            1.0|(811,[643],[1.0])|    (1,[],[])|(632,[464],[1.0])|(8,[0],[1.0])|(2,[0],[1.0])|(4,[1],[1.0])|(1464,[643,1276,1...|[11.5684129349383...|[0.57842064674691...|       0.0|\n",
            "|        558|       0|     1| Robbins, Mr. Victor|  male|30.08|    0|    0|        PC 17757|227.525|    M|       C|    Mr|       Mr|     693.0|      0.0|        14.0|        0.0|           1.0|            0.0|(811,[693],[1.0])|(1,[0],[1.0])| (632,[14],[1.0])|(8,[0],[1.0])|(2,[1],[1.0])|(4,[0],[1.0])|(1464,[693,811,82...|[11.6542854966259...|[0.58271427483129...|       0.0|\n",
            "|        572|       1|     1|Appleton, Mrs. Ed...|female| 53.0|    2|    0|           11769|51.4792|    C|       S|   Mrs|      Mrs|     336.0|      1.0|       330.0|        1.0|           0.0|            2.0|(811,[336],[1.0])|    (1,[],[])|(632,[330],[1.0])|(8,[1],[1.0])|(2,[0],[1.0])|(4,[2],[1.0])|(1464,[336,1142,1...|[9.43359345675733...|[0.47167967283786...|       1.0|\n",
            "|        577|       1|     2|Garside, Miss. Ethel|female| 34.0|    0|    0|          243880|   13.0|    M|       S|  Miss|     Miss|     463.0|      1.0|       360.0|        0.0|           0.0|            1.0|(811,[463],[1.0])|    (1,[],[])|(632,[360],[1.0])|(8,[0],[1.0])|(2,[0],[1.0])|(4,[1],[1.0])|(1464,[463,1172,1...|[10.5409860399366...|[0.52704930199683...|       0.0|\n",
            "+-----------+--------+------+--------------------+------+-----+-----+-----+----------------+-------+-----+--------+------+---------+----------+---------+------------+-----------+--------------+---------------+-----------------+-------------+-----------------+-------------+-------------+-------------+--------------------+--------------------+--------------------+----------+\n",
            "only showing top 20 rows\n",
            "\n"
          ]
        }
      ]
    },
    {
      "cell_type": "markdown",
      "metadata": {
        "id": "FSXEI8-r8bKY"
      },
      "source": [
        "**Use MulticlassClassificationEvaluator and set the \"labelCol\" to \"Survived\",  \"predictionCol\" to \"prediction\", \"metricName\" to \"accuracy\"**"
      ]
    },
    {
      "cell_type": "code",
      "execution_count": null,
      "metadata": {
        "id": "Rl0UAKCaBDO-",
        "outputId": "f6bc384f-b4dc-4241-8454-bd78f32bd0b8",
        "colab": {
          "base_uri": "https://localhost:8080/"
        }
      },
      "outputs": [
        {
          "output_type": "stream",
          "name": "stdout",
          "text": [
            "Accuracy is 0.755\n"
          ]
        }
      ],
      "source": [
        "Evaluator = MulticlassClassificationEvaluator(predictionCol='prediction',\n",
        "                                         labelCol='Survived',\n",
        "                                         metricName='accuracy')\n",
        "\n",
        "acc = Evaluator.evaluate(predDF)\n",
        "print(f\"Accuracy is {acc:.3f}\")"
      ]
    }
  ],
  "metadata": {
    "colab": {
      "provenance": []
    },
    "kernelspec": {
      "display_name": "Python 3",
      "language": "python",
      "name": "python3"
    },
    "language_info": {
      "codemirror_mode": {
        "name": "ipython",
        "version": 3
      },
      "file_extension": ".py",
      "mimetype": "text/x-python",
      "name": "python",
      "nbconvert_exporter": "python",
      "pygments_lexer": "ipython3",
      "version": "3.8.5"
    }
  },
  "nbformat": 4,
  "nbformat_minor": 0
}